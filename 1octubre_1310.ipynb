{
  "nbformat": 4,
  "nbformat_minor": 0,
  "metadata": {
    "colab": {
      "name": "1octubre_1310.ipynb",
      "provenance": [],
      "authorship_tag": "ABX9TyNQLPhzKFZsY8OideT/X1kE",
      "include_colab_link": true
    },
    "kernelspec": {
      "name": "python3",
      "display_name": "Python 3"
    }
  },
  "cells": [
    {
      "cell_type": "markdown",
      "metadata": {
        "id": "view-in-github",
        "colab_type": "text"
      },
      "source": [
        "<a href=\"https://colab.research.google.com/github/OscarRosales/edd_1310_2021/blob/master/1octubre_1310.ipynb\" target=\"_parent\"><img src=\"https://colab.research.google.com/assets/colab-badge.svg\" alt=\"Open In Colab\"/></a>"
      ]
    },
    {
      "cell_type": "markdown",
      "metadata": {
        "id": "a58heqIs7x9a"
      },
      "source": [
        "## Python 3\n",
        "### Variables\n",
        "tipo dinámico\n",
        "escuela= \"FES ARAGÓN\""
      ]
    },
    {
      "cell_type": "code",
      "metadata": {
        "id": "P1rAid3B8Kcw",
        "outputId": "a18fd80e-c300-40c8-ff6d-b1740e5991bc",
        "colab": {
          "base_uri": "https://localhost:8080/",
          "height": 168
        }
      },
      "source": [
        "escuela = \"FES ARAGÓN\"\n",
        "print (escuela)\n",
        "print (\"-------\")\n",
        "edad = 13\n",
        "estatura = 1.67\n",
        "fumador = True \n",
        "frase = \"\"\"\n",
        "esta es \n",
        "una \n",
        "frase de multiples líneas \n",
        "y tambien es \n",
        "un tipo de dato\n",
        "\"\"\"\n",
        "print (frase)\n",
        "nombre = 'jose'\n",
        "nombre_completo = \"jose sosa cardenas\"\n"
      ],
      "execution_count": 2,
      "outputs": [
        {
          "output_type": "stream",
          "text": [
            "FES ARAGÓN\n",
            "-------\n",
            "\n",
            "esta es \n",
            "una \n",
            "frase de multiples líneas \n",
            "y tambien es \n",
            "un tipo de dato\n",
            "\n"
          ],
          "name": "stdout"
        }
      ]
    },
    {
      "cell_type": "markdown",
      "metadata": {
        "id": "uPf-HMQM90yf"
      },
      "source": [
        "#Print\n",
        "con comas , \n",
        "con signo más +\n",
        "con format ()\n",
        "con el operador f \" \""
      ]
    },
    {
      "cell_type": "code",
      "metadata": {
        "id": "tSlQaKdR-DQb",
        "outputId": "8d8b3d41-064b-4069-ff71-5a4744e3e151",
        "colab": {
          "base_uri": "https://localhost:8080/",
          "height": 34
        }
      },
      "source": [
        "print (nombre,edad)"
      ],
      "execution_count": 3,
      "outputs": [
        {
          "output_type": "stream",
          "text": [
            "jose 13\n"
          ],
          "name": "stdout"
        }
      ]
    },
    {
      "cell_type": "code",
      "metadata": {
        "id": "eBc5TWsd_KMM",
        "outputId": "88f5d65b-404e-4dd5-fd76-2a2693345301",
        "colab": {
          "base_uri": "https://localhost:8080/",
          "height": 50
        }
      },
      "source": [
        "# + concatena\n",
        "print (nombre + str (edad))\n",
        "print(nombre + nombre_completo)"
      ],
      "execution_count": 4,
      "outputs": [
        {
          "output_type": "stream",
          "text": [
            "jose13\n",
            "josejose sosa cardenas\n"
          ],
          "name": "stdout"
        }
      ]
    },
    {
      "cell_type": "code",
      "metadata": {
        "id": "xP4m0l9pAQww",
        "outputId": "39550599-8d86-4ece-8019-d64ce2f0f9ad",
        "colab": {
          "base_uri": "https://localhost:8080/",
          "height": 67
        }
      },
      "source": [
        "# con formato _> Su nombre Jose y su edad es de 13 años.\n",
        "print (\"Su nombre es\", nombre,\"y su edad es de\", edad, \"años.\" )\n",
        "print(\"Su nombre es {0} y su edad es de {1} años.\" .format(nombre, edad))\n",
        "print(\"Su nombre es {1} y su edad es de {0} años.\" .format(nombre, edad))"
      ],
      "execution_count": 8,
      "outputs": [
        {
          "output_type": "stream",
          "text": [
            "Su nombre es jose y su edad es de 13 años.\n",
            "Su nombre es jose y su edad es de 13 años.\n",
            "Su nombre es 13 y su edad es de jose años.\n"
          ],
          "name": "stdout"
        }
      ]
    },
    {
      "cell_type": "code",
      "metadata": {
        "id": "oAzt1qBzBzhY",
        "outputId": "28cb4eac-c218-4a63-e809-9116ac34346f",
        "colab": {
          "base_uri": "https://localhost:8080/",
          "height": 34
        }
      },
      "source": [
        "# con formato con el operador f\"\"\"\n",
        "print(f\"Su nombre es {nombre} y su edad es de {edad} años.\")"
      ],
      "execution_count": 9,
      "outputs": [
        {
          "output_type": "stream",
          "text": [
            "Su nombre es jose y su edad es de 13 años.\n"
          ],
          "name": "stdout"
        }
      ]
    },
    {
      "cell_type": "markdown",
      "metadata": {
        "id": "i8KopOhxClAp"
      },
      "source": [
        "# Caracter de escape\n",
        "\\n salto de linea\n",
        "\n",
        "\\t tabulador\n",
        "\n",
        "\\a beep\n",
        "\n",
        "\\\\\"imprimir comilla doble\n",
        "\n",
        "\\\\\"imprimir comilla simple"
      ]
    },
    {
      "cell_type": "code",
      "metadata": {
        "id": "sMDm4eCFDNeQ",
        "outputId": "a84be841-4168-4194-fdf6-de7aef396076",
        "colab": {
          "base_uri": "https://localhost:8080/",
          "height": 50
        }
      },
      "source": [
        "\"\"\"\n",
        "Esto es \n",
        "un comentario \n",
        "de multiple linea\n",
        "tan tan\n",
        "\"\"\"\n",
        "print(f\"\\tMi nombre es\\n\\t\\t{nombre}\")"
      ],
      "execution_count": 10,
      "outputs": [
        {
          "output_type": "stream",
          "text": [
            "\tMi nombre es\n",
            "\t\tjose\n"
          ],
          "name": "stdout"
        }
      ]
    },
    {
      "cell_type": "markdown",
      "metadata": {
        "id": "x_xr4GuyDtl3"
      },
      "source": [
        "#Ayudas de tipos de datos en python\n",
        "dir ()\n",
        "help ()"
      ]
    },
    {
      "cell_type": "code",
      "metadata": {
        "id": "jFK0j8H7ENZd"
      },
      "source": [
        "#str, int, float, bool ... list, dict, set\n",
        "dir (str)\n",
        "help (str)"
      ],
      "execution_count": null,
      "outputs": []
    },
    {
      "cell_type": "code",
      "metadata": {
        "id": "iPw5nimFFPod",
        "outputId": "606e6b3e-3fd4-4132-a520-3731e95dbdf2",
        "colab": {
          "base_uri": "https://localhost:8080/",
          "height": 50
        }
      },
      "source": [
        "print(nombre_completo.capitalize() ) \n",
        "print(nombre_completo.upper() , end=\"-----\") \n",
        "print(nombre_completo.title() ) "
      ],
      "execution_count": 17,
      "outputs": [
        {
          "output_type": "stream",
          "text": [
            "Jose sosa cardenas\n",
            "JOSE SOSA CARDENAS-----Jose Sosa Cardenas\n"
          ],
          "name": "stdout"
        }
      ]
    },
    {
      "cell_type": "code",
      "metadata": {
        "id": "pepMq4upGN41"
      },
      "source": [
        "help (print)"
      ],
      "execution_count": null,
      "outputs": []
    },
    {
      "cell_type": "markdown",
      "metadata": {
        "id": "yiGA84VMGxmX"
      },
      "source": [
        "#Clase String\n",
        "Es manejada como un arreglo (c o java) o lista (python)\n",
        "telefono = \"Huawei mate 30 pro\""
      ]
    },
    {
      "cell_type": "code",
      "metadata": {
        "id": "lHGDUDF2G5_a",
        "outputId": "1aeda1c9-3cff-4a12-a0b1-0808952b9b09",
        "colab": {
          "base_uri": "https://localhost:8080/",
          "height": 34
        }
      },
      "source": [
        "telefono = \"Huawei mate 30 pro\"\n",
        "print ( telefono [5])"
      ],
      "execution_count": 22,
      "outputs": [
        {
          "output_type": "stream",
          "text": [
            "i\n"
          ],
          "name": "stdout"
        }
      ]
    },
    {
      "cell_type": "markdown",
      "metadata": {
        "id": "NOSxpPlEISTM"
      },
      "source": [
        "#Slicing (rebanado)\n",
        "[ini:stop:incremento] nota:: el stop no se incluye, termina en el valor anterior al stop\n"
      ]
    },
    {
      "cell_type": "code",
      "metadata": {
        "id": "rQJ1pAnvJMtP",
        "outputId": "00597de8-b6c4-4fa0-a4d4-0f17d9ab8dfd",
        "colab": {
          "base_uri": "https://localhost:8080/",
          "height": 118
        }
      },
      "source": [
        "print (telefono[7:11:1])\n",
        "#el inicio y el incremento son opcionales \n",
        "print (telefono[:11:])\n",
        "#el valor por defectode stop es len(str)\n",
        "print(telefono[::])\n",
        "#incremento negativo\n",
        "print(telefono[::-1])\n",
        "#\n",
        "print(telefono[-3::1])\n",
        "#slacing negativo\n",
        "ini= -3\n",
        "inc =1\n",
        "print(telefono[ini::inc])\n"
      ],
      "execution_count": 28,
      "outputs": [
        {
          "output_type": "stream",
          "text": [
            "mate\n",
            "Huawei mate\n",
            "Huawei mate 30 pro\n",
            "orp 03 etam iewauH\n",
            "pro\n",
            "pro\n"
          ],
          "name": "stdout"
        }
      ]
    },
    {
      "cell_type": "markdown",
      "metadata": {
        "id": "sV-QNLt1NNv8"
      },
      "source": [
        "#métodos de string (str)\n",
        "existen metodos muy útiles en esta clase."
      ]
    },
    {
      "cell_type": "code",
      "metadata": {
        "id": "UIj4uccBNZ3e",
        "outputId": "13b78f7a-1d67-423b-c2ad-e5abd65f1430",
        "colab": {
          "base_uri": "https://localhost:8080/",
          "height": 319
        }
      },
      "source": [
        "facultad =\"    facultad de estudios superiores aragon      \\n\"\n",
        "print(facultad.count(\"u\"))#cuenta el numero de elementos en la cadena\n",
        "print(facultad.find(\"s\"))#encuentra el elemento de la cadena\n",
        "print(facultad.strip())\n",
        "tamaño=len(facultad)\n",
        "print(len(facultad))\n",
        "print(f\"tamaño de la cadena es {tamaño} caracteres\")\n",
        "print(facultad)\n",
        "print(facultad.strip().split(\" \"))\n",
        "\n",
        "print(\"------\")\n",
        "#copiar cadena\n",
        "otra_cadena = facultad\n",
        "print(otra_cadena)\n",
        "otra_cadena= \"FES ARAGON\"\n",
        "print(facultad)\n",
        "print(otra_cadena)\n",
        "una_mas=facultad\n",
        "\n",
        "#copiar listas\n",
        "colores=[\"rojo\",\"verde\"]\n",
        "otra= colores.copy ()\n",
        "print (colores)\n",
        "print (otra)\n",
        "otra.append(\"rosa\")\n",
        "print(colores)\n",
        "print(otra)"
      ],
      "execution_count": 46,
      "outputs": [
        {
          "output_type": "stream",
          "text": [
            "3\n",
            "17\n",
            "facultad de estudios superiores aragon\n",
            "49\n",
            "tamaño de la cadena es 49 caracteres\n",
            "    facultad de estudios superiores aragon      \n",
            "\n",
            "['facultad', 'de', 'estudios', 'superiores', 'aragon']\n",
            "------\n",
            "    facultad de estudios superiores aragon      \n",
            "\n",
            "    facultad de estudios superiores aragon      \n",
            "\n",
            "FES ARAGON\n",
            "['rojo', 'verde']\n",
            "['rojo', 'verde']\n",
            "['rojo', 'verde']\n",
            "['rojo', 'verde', 'rosa']\n"
          ],
          "name": "stdout"
        }
      ]
    }
  ]
}