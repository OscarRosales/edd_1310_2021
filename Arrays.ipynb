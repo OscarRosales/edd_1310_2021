{
  "nbformat": 4,
  "nbformat_minor": 0,
  "metadata": {
    "colab": {
      "name": "Arrays.ipynb",
      "provenance": [],
      "authorship_tag": "ABX9TyNPlPxKJfKVQaObjC18tOCW",
      "include_colab_link": true
    },
    "kernelspec": {
      "name": "python3",
      "display_name": "Python 3"
    }
  },
  "cells": [
    {
      "cell_type": "markdown",
      "metadata": {
        "id": "view-in-github",
        "colab_type": "text"
      },
      "source": [
        "<a href=\"https://colab.research.google.com/github/OscarRosales/edd_1310_2021/blob/master/Arrays.ipynb\" target=\"_parent\"><img src=\"https://colab.research.google.com/assets/colab-badge.svg\" alt=\"Open In Colab\"/></a>"
      ]
    },
    {
      "cell_type": "code",
      "metadata": {
        "id": "pZzO-TA-sngn"
      },
      "source": [
        "class Array:\n",
        "      def __init__( self , tam ):\n",
        "          self.__info = [ 0 for x in range(tam)]\n",
        "\n",
        "      def get_item( self , posicion ):\n",
        "          dato = 0\n",
        "          try:\n",
        "              dato = self.__info[ posicion ]\n",
        "          except Exception as e:\n",
        "              print(\"Error de posicion\")\n",
        "              dato=\"Error\"\n",
        "          return dato\n",
        "\n",
        "      def set_item( self , dato, posicion ):\n",
        "          try:\n",
        "              self.__info[ posicion ]\n",
        "          except Exception as e:\n",
        "              print(\"Error de posicion\")\n",
        "\n",
        "              def get_lenght( self ):\n",
        "                  return len( self.__info )\n",
        "                  def clear( self, dato ):\n",
        "                      self.__info=[dato for x in range(self.__info)]\n",
        "\n",
        "                      class _IteratorArreglo:\n",
        "                          def __init__( self , arr ):\n",
        "                              self.__arr = arr\n",
        "                              self.__indice = 0\n",
        "\n",
        "                              def __iter__( self ):\n",
        "                                  return self\n",
        "\n",
        "                                  def __next__( self ):\n",
        "                                      if self.__indice< len(self.__arr):\n",
        "                                          dato = self.__arr[self.indice]\n",
        "                                          self.__indice += 1\n",
        "                                          return dato\n",
        "\n",
        "                                      else:\n",
        "                                          raise StopIteration\n",
        "\n",
        "algo = Array(10)\n",
        "print(algo.get_item(6363))\n",
        "algo.set_item(555,3)\n",
        "print(algo.get_item(3))\n",
        "print( f\"El arreglo tiene { algo.get_length() } elementos\" )\n",
        "algo.clear(777)\n",
        "print(algo.get_item(3))\n",
        "print(\"---------\")\n",
        "for x in algo:\n",
        "    print ( x )\n",
        "print(\"----Prueba de iterator----\")\n",
        "for x in range(algo.get_length()):\n",
        "    print(f\"{x}-> {algo.get_item(x)}\")"
      ],
      "execution_count": null,
      "outputs": []
    }
  ]
}