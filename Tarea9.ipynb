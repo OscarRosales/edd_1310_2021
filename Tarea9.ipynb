{
  "nbformat": 4,
  "nbformat_minor": 0,
  "metadata": {
    "colab": {
      "name": "Tarea9.ipynb",
      "provenance": [],
      "authorship_tag": "ABX9TyPPOYh0l6KVqloE61dCRrZ7",
      "include_colab_link": true
    },
    "kernelspec": {
      "name": "python3",
      "display_name": "Python 3"
    }
  },
  "cells": [
    {
      "cell_type": "markdown",
      "metadata": {
        "id": "view-in-github",
        "colab_type": "text"
      },
      "source": [
        "<a href=\"https://colab.research.google.com/github/OscarRosales/edd_1310_2021/blob/master/Tarea9.ipynb\" target=\"_parent\"><img src=\"https://colab.research.google.com/assets/colab-badge.svg\" alt=\"Open In Colab\"/></a>"
      ]
    },
    {
      "cell_type": "code",
      "metadata": {
        "id": "ginD9h_6YfC6"
      },
      "source": [
        "  \r\n",
        "class Queue:\r\n",
        "  def __init__(self):\r\n",
        "    self.__data = list() #[constructor]\r\n",
        "\r\n",
        "  def is_empty(self):\r\n",
        "    return len(self.__data) == 0\r\n",
        "\r\n",
        "  def lenght( self ):\r\n",
        "    return len(self.__data)\r\n",
        "\r\n",
        "  def enqueue(self, elem):\r\n",
        "    self.__data.append(elem)\r\n",
        "\r\n",
        "  def dequeue ( self ):\r\n",
        "    if not self.is_empty():\r\n",
        "      return self.__data.pop(0)\r\n",
        "    else:\r\n",
        "      return None\r\n",
        "\r\n",
        "  def to_string(self):\r\n",
        "    cadena = \"\"\r\n",
        "    for elem in self.__data:\r\n",
        "      cadena = cadena + \"|\" + str(elem)\r\n",
        "    cadena = cadena + \"|\"\r\n",
        "    return cadenas\r\n",
        "\r\n",
        "#---TAREA 9---\r\n",
        "\r\n",
        "#\"Implementar el ADT PriorityQueue usando los métodos visto hoy en clase en las diapositivas de Colas de Prioridad\"\r\n",
        "\r\n",
        "class BoundedPriorityQueue:\r\n",
        "    def __init__(self, niveles):\r\n",
        "        self.__data = [ Queue() for x in range(niveles)] #Arreglo privado de tipo lista Es una lista pyhton en donde en cada nivel hay una cola vacía\r\n",
        "        self.__size = 0\r\n",
        "\r\n",
        "    def is_empty(self):\r\n",
        "        return self.__size == 0\r\n",
        "\r\n",
        "    def lenght (self):\r\n",
        "        return self.__size\r\n",
        "\r\n",
        "    def enqueue(self, prioridad, elem):  #poner\r\n",
        "        if prioridad < len(self.__data) and prioridad >= 0:  #Si se cumple esta condición entonces si se puede agregar un valor\r\n",
        "            self.__data[prioridad].enqueue(elem)\r\n",
        "            self.__size += 1\r\n",
        "\r\n",
        "    def dequeue(self):  #sacar datos\r\n",
        "    if not self.is_empty():\r\n",
        "      for nivel in self.__data:\r\n",
        "            if not nivel.is_empty():\r\n",
        "                self.__size -=1\r\n",
        "                return nivel.dequeue()\r\n",
        "\r\n",
        "    def to_string(self):\r\n",
        "        print(\"cola:\")\r\n",
        "        for nivel in range(len(self.__data)):\r\n",
        "            print(f\"Nivel {nivel} --> {self.__data[nivel].to_string()}\")"
      ],
      "execution_count": null,
      "outputs": []
    }
  ]
}