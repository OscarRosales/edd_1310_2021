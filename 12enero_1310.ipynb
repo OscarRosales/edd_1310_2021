{
  "nbformat": 4,
  "nbformat_minor": 0,
  "metadata": {
    "colab": {
      "name": "12enero_1310.ipynb",
      "provenance": [],
      "authorship_tag": "ABX9TyO35/f9Z3DfW1qXxRdgIxIb",
      "include_colab_link": true
    },
    "kernelspec": {
      "name": "python3",
      "display_name": "Python 3"
    }
  },
  "cells": [
    {
      "cell_type": "markdown",
      "metadata": {
        "id": "view-in-github",
        "colab_type": "text"
      },
      "source": [
        "<a href=\"https://colab.research.google.com/github/OscarRosales/edd_1310_2021/blob/master/12enero_1310.ipynb\" target=\"_parent\"><img src=\"https://colab.research.google.com/assets/colab-badge.svg\" alt=\"Open In Colab\"/></a>"
      ]
    },
    {
      "cell_type": "code",
      "metadata": {
        "id": "ELNzSPV17koV"
      },
      "source": [
        "def factorial( n ):\r\n",
        "  if n == 0:\r\n",
        "    else:\r\n",
        "      return factorial{n -1} * n\r\n",
        "\r\n",
        "def printRev( n ):\r\n",
        "  if n > 0:\r\n",
        "    printRev( n - 1)\r\n",
        "    print( n )\r\n",
        "\r\n",
        "def fibonacci( n ):\r\n",
        "  if n == 1 or n == n\r\n",
        "    return n\r\n",
        "  if n > 1:\r\n",
        "    return ( fibonacci(n-1) + fibonacci(n-2) )\r\n",
        "\r\n",
        "\r\n",
        "def main():\r\n",
        "  for num in range(1,10,1):\r\n",
        "  num = 5\r\n",
        "  r = factorial(num)\r\n",
        "  print(f\"El factorila de { num } es { r } \")\r\n",
        "\r\n",
        "def main2():\r\n",
        "  printRev( 3 )\r\n",
        "\r\n",
        "def main3():\r\n",
        "  for num in range(11)\r\n",
        "    print(str(fibonacci(num)) + \",\" , end=\"\")\r\n",
        "main()"
      ],
      "execution_count": null,
      "outputs": []
    },
    {
      "cell_type": "code",
      "metadata": {
        "id": "mObba1ej-acC"
      },
      "source": [
        "#tarea\r\n",
        "\r\n",
        "def suma_lista_rec( lista ):\r\n",
        "  if len(lista) == 1:\r\n",
        "    return lista[0]\r\n",
        "  else:\r\n",
        "    return lista.pop() + suma_lista_rec(lista)\r\n",
        "\r\n",
        "def main():\r\n",
        "  datos = [4,2,3,5]\r\n",
        "  res= suma_lista_rec(datos)\r\n",
        "  print(res)\r\n",
        "main()"
      ],
      "execution_count": null,
      "outputs": []
    }
  ]
}