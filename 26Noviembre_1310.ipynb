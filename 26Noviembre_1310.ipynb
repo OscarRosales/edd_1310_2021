{
  "nbformat": 4,
  "nbformat_minor": 0,
  "metadata": {
    "colab": {
      "name": "26Noviembre_1310.ipynb",
      "provenance": [],
      "authorship_tag": "ABX9TyOux3kuQC2AHMaw+mZePqA4"
    },
    "kernelspec": {
      "name": "python3",
      "display_name": "Python 3"
    }
  },
  "cells": [
    {
      "cell_type": "code",
      "metadata": {
        "id": "qdpO_3FI7K3H"
      },
      "source": [
        "class Stack:\n",
        "  def__init__( self ):\n",
        "    self.__data = list()\n",
        "    \n",
        "  def is_empty( self ):\n",
        "    return len(self.__data) == 0\n",
        "\n",
        "  def length( self ):\n",
        "    return len( self.__data )\n",
        "\n",
        "  def pop( self ):\n",
        "    if self.is_empty():\n",
        "      print(\"pila vacia\")\n",
        "    else: \n",
        "      return self.__data.pop()\n",
        "\n",
        "  def push( self , value ):\n",
        "    self.__data.append(value):\n",
        "\n",
        "  def peek( self ):\n",
        "    return self.__data[ len(self.__data) - 1 ]\n",
        "\n",
        "  def to_string( self ):\n",
        "    for item in self.__data:\n",
        "      print(f\"  { item } \")\n",
        "      print(\" -----\") \n",
        "\n",
        "\n",
        "from pilas import Stack\n",
        "\n",
        "pila = Stacl()\n",
        "\n",
        "pila.push('a')\n",
        "pila.push('x')\n",
        "pila.to_string()\n",
        "pila.push('b')\n",
        "pila.push('y')\n",
        "pila.to_string()\n",
        "var = pila.pop()\n",
        "pila.to_string()\n",
        "print(f\"var= { var } \")"
      ],
      "execution_count": null,
      "outputs": []
    },
    {
      "cell_type": "code",
      "metadata": {
        "id": "AkVcISpn7U1Q"
      },
      "source": [
        "from pilas import Stack\n",
        "\n",
        "pila = Stack()\n",
        "\n",
        "pila.push('a')\n",
        "pila.push('x')\n",
        "pila.to_string()\n",
        "pila.push('b')\n",
        "pila.push('y')\n",
        "pila.to_string()\n",
        "var = pila.pop()\n",
        "pila.to_string()\n",
        "print(f\"var= { var } \")"
      ],
      "execution_count": null,
      "outputs": []
    }
  ]
}