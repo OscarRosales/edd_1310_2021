{
  "nbformat": 4,
  "nbformat_minor": 0,
  "metadata": {
    "colab": {
      "name": "13octubre_1310.ipynb",
      "provenance": [],
      "authorship_tag": "ABX9TyPdRjBsgO5zADW8skAOeNAz",
      "include_colab_link": true
    },
    "kernelspec": {
      "name": "python3",
      "display_name": "Python 3"
    }
  },
  "cells": [
    {
      "cell_type": "markdown",
      "metadata": {
        "id": "view-in-github",
        "colab_type": "text"
      },
      "source": [
        "<a href=\"https://colab.research.google.com/github/OscarRosales/edd_1310_2021/blob/master/13octubre_1310.ipynb\" target=\"_parent\"><img src=\"https://colab.research.google.com/assets/colab-badge.svg\" alt=\"Open In Colab\"/></a>"
      ]
    },
    {
      "cell_type": "code",
      "metadata": {
        "id": "gGulmJq_t3z-",
        "outputId": "18ea7fb2-e1ca-40f7-ec8e-30433e324842",
        "colab": {
          "base_uri": "https://localhost:8080/",
          "height": 104
        }
      },
      "source": [
        "alumno = { \n",
        "          \"num_cta\" : 303030303 ,\n",
        "          \"carrera\" : \"ICO\",\n",
        "          \"promedio\" : 9.8,\n",
        "          \"materias\" :[\"EDD\",\"CyP\",\"Calidad\",\"Emprendimiento\"],\n",
        "          \"direccion\" : { \n",
        "                            \"calle\":\"rancho seco\",\n",
        "                            \"numero\" : 23 ,\n",
        "                            \"delegacion\" : \"Neza\",\n",
        "                            \"estado\" : {\n",
        "                                        \"id\" : 15 ,\n",
        "                                        \"nombre\" : \"Estado de Máxico\" ,\n",
        "                                        \"nombre_corto\" : \"EdoMex\"\n",
        "                                        } ,\n",
        "                            \"CP\":57170\n",
        "\n",
        "                        } \n",
        "          }\n",
        "print(alumno)\n",
        "alumno['carrera']=\"ingenieria en computacion\"\n",
        "print(alumno)\n",
        "alumno['nombre_completo']={'primer':\"Juan\",\n",
        "                           'segundo': \"Pedro\",\n",
        "                           'tercero':\"Pérez\",\n",
        "                           'cuarto':\"Gómez\",\n",
        "                           }\n",
        "alumno['semestre']=3\n",
        "print(alumno)\n",
        "\n",
        "print(f\"{alumno['nombre_completo']['primer']} {alumno['nombre_completo']['segundo']}\")"
      ],
      "execution_count": 11,
      "outputs": [
        {
          "output_type": "stream",
          "text": [
            "{'num_cta': 303030303, 'carrera': 'ICO', 'promedio': 9.8, 'materias': ['EDD', 'CyP', 'Calidad', 'Emprendimiento'], 'direccion': {'calle': 'rancho seco', 'numero': 23, 'delegacion': 'Neza', 'estado': {'id': 15, 'nombre': 'Estado de Máxico', 'nombre_corto': 'EdoMex'}, 'CP': 57170}}\n",
            "{'num_cta': 303030303, 'carrera': 'ingenieria en computacion', 'promedio': 9.8, 'materias': ['EDD', 'CyP', 'Calidad', 'Emprendimiento'], 'direccion': {'calle': 'rancho seco', 'numero': 23, 'delegacion': 'Neza', 'estado': {'id': 15, 'nombre': 'Estado de Máxico', 'nombre_corto': 'EdoMex'}, 'CP': 57170}}\n",
            "{'num_cta': 303030303, 'carrera': 'ingenieria en computacion', 'promedio': 9.8, 'materias': ['EDD', 'CyP', 'Calidad', 'Emprendimiento'], 'direccion': {'calle': 'rancho seco', 'numero': 23, 'delegacion': 'Neza', 'estado': {'id': 15, 'nombre': 'Estado de Máxico', 'nombre_corto': 'EdoMex'}, 'CP': 57170}, 'nombre_completo': {'primer': 'Juan', 'segundo': 'Pedro', 'tercero': 'Pérez', 'cuarto': 'Gómez'}, 'semestre': 3}\n",
            "Juan Pedro\n"
          ],
          "name": "stdout"
        }
      ]
    },
    {
      "cell_type": "code",
      "metadata": {
        "id": "vtpiCF_0x8tI"
      },
      "source": [
        "help(dict)"
      ],
      "execution_count": null,
      "outputs": []
    },
    {
      "cell_type": "code",
      "metadata": {
        "id": "X_KLSAz-yd_L",
        "outputId": "ed8f8fb8-0647-4292-ba45-ba68aceb6432",
        "colab": {
          "base_uri": "https://localhost:8080/",
          "height": 406
        }
      },
      "source": [
        "#key(), values(), items()\n",
        "llaves=alumno.keys()\n",
        "print(llaves)\n",
        "for llave in llaves:\n",
        " print(llave.upper())\n",
        "\n",
        "valores=alumno.values()\n",
        "for val in valores:\n",
        " print(val)\n",
        "\n",
        " pares=alumno.items()\n",
        " print(pares)"
      ],
      "execution_count": 18,
      "outputs": [
        {
          "output_type": "stream",
          "text": [
            "dict_keys(['num_cta', 'carrera', 'promedio', 'materias', 'direccion', 'nombre_completo', 'semestre'])\n",
            "NUM_CTA\n",
            "CARRERA\n",
            "PROMEDIO\n",
            "MATERIAS\n",
            "DIRECCION\n",
            "NOMBRE_COMPLETO\n",
            "SEMESTRE\n",
            "303030303\n",
            "dict_items([('num_cta', 303030303), ('carrera', 'ingenieria en computacion'), ('promedio', 9.8), ('materias', ['EDD', 'CyP', 'Calidad', 'Emprendimiento']), ('direccion', {'calle': 'rancho seco', 'numero': 23, 'delegacion': 'Neza', 'estado': {'id': 15, 'nombre': 'Estado de Máxico', 'nombre_corto': 'EdoMex'}, 'CP': 57170}), ('nombre_completo', {'primer': 'Juan', 'segundo': 'Pedro', 'tercero': 'Pérez', 'cuarto': 'Gómez'}), ('semestre', 3)])\n",
            "ingenieria en computacion\n",
            "dict_items([('num_cta', 303030303), ('carrera', 'ingenieria en computacion'), ('promedio', 9.8), ('materias', ['EDD', 'CyP', 'Calidad', 'Emprendimiento']), ('direccion', {'calle': 'rancho seco', 'numero': 23, 'delegacion': 'Neza', 'estado': {'id': 15, 'nombre': 'Estado de Máxico', 'nombre_corto': 'EdoMex'}, 'CP': 57170}), ('nombre_completo', {'primer': 'Juan', 'segundo': 'Pedro', 'tercero': 'Pérez', 'cuarto': 'Gómez'}), ('semestre', 3)])\n",
            "9.8\n",
            "dict_items([('num_cta', 303030303), ('carrera', 'ingenieria en computacion'), ('promedio', 9.8), ('materias', ['EDD', 'CyP', 'Calidad', 'Emprendimiento']), ('direccion', {'calle': 'rancho seco', 'numero': 23, 'delegacion': 'Neza', 'estado': {'id': 15, 'nombre': 'Estado de Máxico', 'nombre_corto': 'EdoMex'}, 'CP': 57170}), ('nombre_completo', {'primer': 'Juan', 'segundo': 'Pedro', 'tercero': 'Pérez', 'cuarto': 'Gómez'}), ('semestre', 3)])\n",
            "['EDD', 'CyP', 'Calidad', 'Emprendimiento']\n",
            "dict_items([('num_cta', 303030303), ('carrera', 'ingenieria en computacion'), ('promedio', 9.8), ('materias', ['EDD', 'CyP', 'Calidad', 'Emprendimiento']), ('direccion', {'calle': 'rancho seco', 'numero': 23, 'delegacion': 'Neza', 'estado': {'id': 15, 'nombre': 'Estado de Máxico', 'nombre_corto': 'EdoMex'}, 'CP': 57170}), ('nombre_completo', {'primer': 'Juan', 'segundo': 'Pedro', 'tercero': 'Pérez', 'cuarto': 'Gómez'}), ('semestre', 3)])\n",
            "{'calle': 'rancho seco', 'numero': 23, 'delegacion': 'Neza', 'estado': {'id': 15, 'nombre': 'Estado de Máxico', 'nombre_corto': 'EdoMex'}, 'CP': 57170}\n",
            "dict_items([('num_cta', 303030303), ('carrera', 'ingenieria en computacion'), ('promedio', 9.8), ('materias', ['EDD', 'CyP', 'Calidad', 'Emprendimiento']), ('direccion', {'calle': 'rancho seco', 'numero': 23, 'delegacion': 'Neza', 'estado': {'id': 15, 'nombre': 'Estado de Máxico', 'nombre_corto': 'EdoMex'}, 'CP': 57170}), ('nombre_completo', {'primer': 'Juan', 'segundo': 'Pedro', 'tercero': 'Pérez', 'cuarto': 'Gómez'}), ('semestre', 3)])\n",
            "{'primer': 'Juan', 'segundo': 'Pedro', 'tercero': 'Pérez', 'cuarto': 'Gómez'}\n",
            "dict_items([('num_cta', 303030303), ('carrera', 'ingenieria en computacion'), ('promedio', 9.8), ('materias', ['EDD', 'CyP', 'Calidad', 'Emprendimiento']), ('direccion', {'calle': 'rancho seco', 'numero': 23, 'delegacion': 'Neza', 'estado': {'id': 15, 'nombre': 'Estado de Máxico', 'nombre_corto': 'EdoMex'}, 'CP': 57170}), ('nombre_completo', {'primer': 'Juan', 'segundo': 'Pedro', 'tercero': 'Pérez', 'cuarto': 'Gómez'}), ('semestre', 3)])\n",
            "3\n",
            "dict_items([('num_cta', 303030303), ('carrera', 'ingenieria en computacion'), ('promedio', 9.8), ('materias', ['EDD', 'CyP', 'Calidad', 'Emprendimiento']), ('direccion', {'calle': 'rancho seco', 'numero': 23, 'delegacion': 'Neza', 'estado': {'id': 15, 'nombre': 'Estado de Máxico', 'nombre_corto': 'EdoMex'}, 'CP': 57170}), ('nombre_completo', {'primer': 'Juan', 'segundo': 'Pedro', 'tercero': 'Pérez', 'cuarto': 'Gómez'}), ('semestre', 3)])\n"
          ],
          "name": "stdout"
        }
      ]
    },
    {
      "cell_type": "code",
      "metadata": {
        "id": "Z9anfQx-1Ext",
        "outputId": "4e4b6246-ec6c-469e-926f-da0e85218aef",
        "colab": {
          "base_uri": "https://localhost:8080/",
          "height": 34
        }
      },
      "source": [
        "#concatenar diccionarios\n",
        "computadora = {\"procesador\":\"Intel i7\",\"ram\":\"Kingston 128GB\"}\n",
        "otros = {\"monitor\":\"LG 49\\\"\",\"hd\":\"Toshiba 1TB\"}\n",
        "computadora.update(otros) \n",
        "print(computadora)"
      ],
      "execution_count": 21,
      "outputs": [
        {
          "output_type": "stream",
          "text": [
            "{'procesador': 'Intel i7', 'ram': 'Kingston 128GB', 'monitor': 'LG 49\"', 'hd': 'Toshiba 1TB'}\n"
          ],
          "name": "stdout"
        }
      ]
    },
    {
      "cell_type": "markdown",
      "metadata": {
        "id": "2h-NXGqV2noz"
      },
      "source": [
        "#funciones\n",
        "- son unidades de código reutilizable\n",
        "- es un mecanismo de organización de código\n",
        "- Una función toma de 0 a N parámetros de entrada\n",
        "- tiene una sola salida (return) de cualquier tipo de dato\n",
        "- solo puede hacer dos cosas \n",
        "      - definirla \n",
        "      - mandarla a llamar\n",
        "- se definen con la palabra reservada 'def'"
      ]
    },
    {
      "cell_type": "code",
      "metadata": {
        "id": "6acY4TZ436Uo",
        "outputId": "edefc958-5afb-4ecc-d60a-6627dcd7afbd",
        "colab": {
          "base_uri": "https://localhost:8080/",
          "height": 251
        }
      },
      "source": [
        "def sumar ( x,y ):\n",
        "    resultado = x + y\n",
        "    return resultado\n",
        "\n",
        "def saludar (nombre):\n",
        "      print(f\"Hola {nombre}, ¿Cómo estás?\")\n",
        "      return None\n",
        "\n",
        "print(sumar(10,5))\n",
        "print(sumar(2,6))\n",
        "saludar(\"Jesús\")\n",
        "# procesar none\n",
        "\n",
        "def multiplicar( valor , veces ):\n",
        "    if valor != None:\n",
        "        c = valor * veces\n",
        "    else:\n",
        "      c = \"Operacion no valida\"\n",
        "    return c\n",
        "\n",
        "def operacion(a , b ,c):\n",
        "  res= a + (b/c)\n",
        "  return res\n",
        "\n",
        "print(sumar(10,5))\n",
        "print(sumar(2,6))\n",
        "c = sumar(3,7)\n",
        "print(c)\n",
        "saludar(\"Jesús\")\n",
        "print(saludar('jose'))\n",
        "print(multiplicar(5,6))\n",
        "print(multiplicar(None,6))\n",
        "\n",
        "print(operacion(2,9,3))\n",
        "print(operacion(2,3,9))\n",
        "\n",
        "print(operacion(a=2,c=3,b=9))\n",
        "\n"
      ],
      "execution_count": 32,
      "outputs": [
        {
          "output_type": "stream",
          "text": [
            "15\n",
            "8\n",
            "Hola Jesús, ¿Cómo estás?\n",
            "15\n",
            "8\n",
            "10\n",
            "Hola Jesús, ¿Cómo estás?\n",
            "Hola jose, ¿Cómo estás?\n",
            "None\n",
            "30\n",
            "Operacion no valida\n",
            "5.0\n",
            "2.3333333333333335\n",
            "5.0\n"
          ],
          "name": "stdout"
        }
      ]
    },
    {
      "cell_type": "code",
      "metadata": {
        "id": "pQEdVC_--iGd",
        "outputId": "33616d0d-4235-4c63-b338-2abb7769b479",
        "colab": {
          "base_uri": "https://localhost:8080/",
          "height": 234
        }
      },
      "source": [
        "  # valores por defecto\n",
        "  def comanda (primer , fuerte , postre=\"Galleta de  animalito\"):\n",
        "      print(f\"De entrada pidió : { primer }\")\n",
        "      print(f\"De plato fuerte pidió : { fuerte }\")\n",
        "      print(f\"Postre pidió : { postre }\")\n",
        "\n",
        "# argumentos posicionales con tuplas\n",
        "def comanda_2 ( *opciones ):\n",
        "      print(opciones)\n",
        "      print(f\"De entrada pidió : { opciones[0] }\")\n",
        "      print(f\"De plato fuerte pidió : { opciones[1] }\")\n",
        "      print(f\"Postre pidió : { opciones[2] }\")\n",
        "      for ind in opciones[3::]:\n",
        "          print(f\"\\t{ind}\")\n",
        "\n",
        "\n",
        "  comanda(\"Sopa aguada\", \"Tortas de papa\", \"Gelatina de limón\")\n",
        "  comanda(\"Sopa aguada\", \"Tortas de papa\")\n",
        "  comanda_2(\"Sopa aguada\", \"Tortas de papa\", \"Gelatina de limón\", \"las tortas bien doradas\", \"traer dos limones\", \"agua con hielo\")\n"
      ],
      "execution_count": 45,
      "outputs": [
        {
          "output_type": "stream",
          "text": [
            "De entrada pidió : Sopa aguada\n",
            "De plato fuerte pidió : Tortas de papa\n",
            "Postre pidió : Gelatina de limón\n",
            "De entrada pidió : Sopa aguada\n",
            "De plato fuerte pidió : Tortas de papa\n",
            "Postre pidió : Galleta de  animalito\n",
            "('Sopa aguada', 'Tortas de papa', 'Gelatina de limón', 'las tortas bien doradas', 'traer dos limones', 'agua con hielo')\n",
            "De entrada pidió : Sopa aguada\n",
            "De plato fuerte pidió : Tortas de papa\n",
            "Postre pidió : Gelatina de limón\n",
            "\tlas tortas bien doradas\n",
            "\ttraer dos limones\n",
            "\tagua con hielo\n"
          ],
          "name": "stdout"
        }
      ]
    },
    {
      "cell_type": "code",
      "metadata": {
        "id": "CdQCiMTiB9Q9",
        "outputId": "99a67950-9f05-4baa-a06c-6c5a12e81c85",
        "colab": {
          "base_uri": "https://localhost:8080/",
          "height": 154
        }
      },
      "source": [
        " #argumentos posicionales con diccionarios **\n",
        " def comanda_3 ( **opciones):\n",
        "   print(opciones)\n",
        "   for op in opciones.items():\n",
        "     print(f\"{op[0]} ->{op[1]}\")\n",
        "\n",
        "comanda_3(primer=\"Sopa aguada\", fuerte=\"Tortas de papa\", postre=\"Gelatina de limón\", extra1=\"las tortas bien doradas\",\n",
        "          extra2=\"traer dos limones\", extra3=\"agua con hielo\")\n"
      ],
      "execution_count": 48,
      "outputs": [
        {
          "output_type": "stream",
          "text": [
            "{'primer': 'Sopa aguada', 'fuerte': 'Tortas de papa', 'postre': 'Gelatina de limón', 'extra1': 'las tortas bien doradas', 'extra2': 'traer dos limones', 'extra3': 'agua con hielo'}\n",
            "primer ->Sopa aguada\n",
            "fuerte ->Tortas de papa\n",
            "postre ->Gelatina de limón\n",
            "extra1 ->las tortas bien doradas\n",
            "extra2 ->traer dos limones\n",
            "extra3 ->agua con hielo\n"
          ],
          "name": "stdout"
        }
      ]
    }
  ]
}