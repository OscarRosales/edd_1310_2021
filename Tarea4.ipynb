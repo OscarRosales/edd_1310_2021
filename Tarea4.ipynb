{
  "nbformat": 4,
  "nbformat_minor": 0,
  "metadata": {
    "colab": {
      "name": "Tarea4.ipynb",
      "provenance": [],
      "authorship_tag": "ABX9TyO7mX/rYPzTrRD8wwvs9e4T",
      "include_colab_link": true
    },
    "kernelspec": {
      "name": "python3",
      "display_name": "Python 3"
    }
  },
  "cells": [
    {
      "cell_type": "markdown",
      "metadata": {
        "id": "view-in-github",
        "colab_type": "text"
      },
      "source": [
        "<a href=\"https://colab.research.google.com/github/OscarRosales/edd_1310_2021/blob/master/Tarea4.ipynb\" target=\"_parent\"><img src=\"https://colab.research.google.com/assets/colab-badge.svg\" alt=\"Open In Colab\"/></a>"
      ]
    },
    {
      "cell_type": "code",
      "metadata": {
        "id": "DkBNuj5SGSXT",
        "outputId": "e1b49306-9fdd-49be-e1f3-222d1e900d3a",
        "colab": {
          "base_uri": "https://localhost:8080/"
        }
      },
      "source": [
        "def prestacion():\n",
        "    prestaciones = 3 *(2020 -float(resultado_fila[6]))\n",
        "    print(f\"Su prestacion es del {prestaciones}%\")\n",
        "\n",
        "def sueldo(i):\n",
        "    sueldo_extra = float(i) \n",
        "    sueldo_total = sueldo_extra + float(resultado_fila[5]) \n",
        "    print(f\"su sueldo total es: {sueldo_total} pesos\") \n",
        "\n",
        "def extra():\n",
        "    i = resultado_fila[4]\n",
        "    j = float(i)  * 276.5\n",
        "    sueldo(j)\n",
        "\n",
        "def nombre():\n",
        "    print(resultado_fila[1]+\" \"+ resultado_fila[2]+ \" \"+ resultado_fila[3])  \n",
        "\n",
        "archivo = open(\"junio.dat\",\"r+\")\n",
        "leer_linea = archivo.readline()\n",
        "for i in range (14):\n",
        "    leer_linea = archivo.readline()\n",
        "    \n",
        "    resultado_fila = [x.strip() for x in leer_linea.split(',')]\n",
        "    nombre()\n",
        "    extra()\n",
        "    prestacion()"
      ],
      "execution_count": 8,
      "outputs": [
        {
          "output_type": "stream",
          "text": [
            "CARLOS PEREZ CASTILLO\n",
            "su sueldo total es: 9850.0 pesos\n",
            "Su prestacion es del 9.0%\n",
            "ANGEL GOMEZ GARRIDO\n",
            "su sueldo total es: 10126.5 pesos\n",
            "Su prestacion es del 0.0%\n",
            "JESUS MARTIN SANTOS\n",
            "su sueldo total es: 10403.0 pesos\n",
            "Su prestacion es del 12.0%\n",
            "DAVID JIMENEZ LOZANO\n",
            "su sueldo total es: 10403.0 pesos\n",
            "Su prestacion es del 9.0%\n",
            "PEDRO RUIZ GUERRERO\n",
            "su sueldo total es: 10403.0 pesos\n",
            "Su prestacion es del 9.0%\n",
            "DANIEL HERNANDEZ CANO\n",
            "su sueldo total es: 10679.5 pesos\n",
            "Su prestacion es del 6.0%\n",
            "ALEJANDRO DIAZ PRIETO\n",
            "su sueldo total es: 10403.0 pesos\n",
            "Su prestacion es del 6.0%\n",
            "MARIA MORENO MENDEZ\n",
            "su sueldo total es: 10126.5 pesos\n",
            "Su prestacion es del 6.0%\n",
            "ALBERTO MUNOZ CRUZ\n",
            "su sueldo total es: 10126.5 pesos\n",
            "Su prestacion es del 9.0%\n",
            "RAFAEL ALVAREZ FLORES\n",
            "su sueldo total es: 10403.0 pesos\n",
            "Su prestacion es del 9.0%\n",
            "FERNANDO ROMERO HERRERA\n",
            "su sueldo total es: 10956.0 pesos\n",
            "Su prestacion es del 3.0%\n",
            "PABLO ALONSO GALLEGO\n",
            "su sueldo total es: 10126.5 pesos\n",
            "Su prestacion es del 3.0%\n",
            "JORGE GUTIERREZ MARQUEZ\n",
            "su sueldo total es: 10403.0 pesos\n",
            "Su prestacion es del 0.0%\n",
            "RAMON NAVARRO LEON\n",
            "su sueldo total es: 10126.5 pesos\n",
            "Su prestacion es del 12.0%\n"
          ],
          "name": "stdout"
        }
      ]
    }
  ]
}