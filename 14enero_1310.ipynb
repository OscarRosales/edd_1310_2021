{
  "nbformat": 4,
  "nbformat_minor": 0,
  "metadata": {
    "colab": {
      "name": "14enero_1310.ipynb",
      "provenance": [],
      "authorship_tag": "ABX9TyMPuPymg6rwGxbYVsYozXZz",
      "include_colab_link": true
    },
    "kernelspec": {
      "name": "python3",
      "display_name": "Python 3"
    }
  },
  "cells": [
    {
      "cell_type": "markdown",
      "metadata": {
        "id": "view-in-github",
        "colab_type": "text"
      },
      "source": [
        "<a href=\"https://colab.research.google.com/github/OscarRosales/edd_1310_2021/blob/master/14enero_1310.ipynb\" target=\"_parent\"><img src=\"https://colab.research.google.com/assets/colab-badge.svg\" alt=\"Open In Colab\"/></a>"
      ]
    },
    {
      "cell_type": "code",
      "metadata": {
        "id": "7ZQavwR572Ts"
      },
      "source": [
        "class NodoArbol:\r\n",
        "    def __init__(self,value,left= None, right = None):\r\n",
        "        self.data = value \r\n",
        "        self.left = left \r\n",
        "        self.right = right\r\n",
        "\r\n",
        "\r\n",
        "\r\n",
        "\r\n",
        "arbol = NodoArbol(\"R\",NodoArbol(\"C\"),NodoArbol(\"H\"))\r\n",
        "print(arbol.left.data)\r\n",
        "print(arbol.right.data)\r\n",
        "print(arbol.data)\r\n",
        "\r\n",
        "arbol2 = NodoArbol(4, NodoArbol(3,NodoArbol(2,NodoArbol(2))),NodoArbol(5))\r\n",
        "print(arbol2.left.left.left.data)"
      ],
      "execution_count": null,
      "outputs": []
    }
  ]
}