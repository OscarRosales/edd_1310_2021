{
  "nbformat": 4,
  "nbformat_minor": 0,
  "metadata": {
    "colab": {
      "name": "IntegracionTrapezoidal.ipynb",
      "provenance": [],
      "authorship_tag": "ABX9TyO0C2Msi9ZjzBYendJEkSnP",
      "include_colab_link": true
    },
    "kernelspec": {
      "name": "python3",
      "display_name": "Python 3"
    }
  },
  "cells": [
    {
      "cell_type": "markdown",
      "metadata": {
        "id": "view-in-github",
        "colab_type": "text"
      },
      "source": [
        "<a href=\"https://colab.research.google.com/github/OscarRosales/edd_1310_2021/blob/master/IntegracionTrapezoidal.ipynb\" target=\"_parent\"><img src=\"https://colab.research.google.com/assets/colab-badge.svg\" alt=\"Open In Colab\"/></a>"
      ]
    },
    {
      "cell_type": "code",
      "metadata": {
        "id": "KXUBXFz0XsS-"
      },
      "source": [
        "#include <stdio.h>\r\n",
        "#include <math.h>\r\n",
        "\r\n",
        "// Definicion de la funcion de la funcion matematica a evaluar\r\n",
        "double funcion(float x)\r\n",
        "{\r\n",
        "\treturn (x * x) * exp(-x * x);\r\n",
        "}\r\n",
        "\r\n",
        "int main()\r\n",
        "{\r\n",
        "\t/* ---------------------------------- */\r\n",
        "\tint n;\r\n",
        "\tfloat i, a, b;\r\n",
        "\tdouble fa, fx, fb, dx, area;\r\n",
        "\t/* ---------------------------------- */\r\n",
        "\t\r\n",
        "\tprintf(\"Ingresa el valor del limite inferior\\n\");\r\n",
        "\tscanf(\"%f\", &a);\r\n",
        "\r\n",
        "\tprintf(\"Ingresa el valor del limite superior\\n\");\r\n",
        "\tscanf(\"%f\", &b);\r\n",
        "\t\r\n",
        "\tprintf(\"Ingresa el numero de particiones\\n\");\r\n",
        "\tscanf(\"%d\", &n);\r\n",
        "\r\n",
        "\tfx = 0.0;\r\n",
        "\tfa = funcion(a);\r\n",
        "\tfb = funcion(b);\r\n",
        "\tdx = (b - a)/(float)n;\r\n",
        "\r\n",
        "\tfor (i = a; i < b; i += dx)\r\n",
        "\t{\r\n",
        "\t\tfx += funcion(i);\r\n",
        "\t}\r\n",
        "\t\t\t\r\n",
        "\tarea = (fx + (fa + fb) / 2) * dx;\r\n",
        "\r\n",
        "\tprintf(\"%0.10f\\n\", area);\r\n",
        "\r\n",
        "\treturn 0;\r\n",
        "}"
      ],
      "execution_count": null,
      "outputs": []
    }
  ]
}