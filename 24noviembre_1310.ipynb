{
  "nbformat": 4,
  "nbformat_minor": 0,
  "metadata": {
    "colab": {
      "name": "24noviembre_1310.ipynb",
      "provenance": [],
      "authorship_tag": "ABX9TyOqyxmf69sJRwZnbwnAMk0P"
    },
    "kernelspec": {
      "name": "python3",
      "display_name": "Python 3"
    }
  },
  "cells": [
    {
      "cell_type": "code",
      "metadata": {
        "id": "un22NZ52miRu"
      },
      "source": [
        "class NodoDouble:\n",
        "    def _init_(self,value,anterior = None,siguiente = None):\n",
        "        self.data=value\n",
        "        self.next=siguiente\n",
        "        self.prev=anterior\n",
        "\n",
        "class LinkedDoubleList:\n",
        "    def _init_(self):#Metodo Constructor\n",
        "        self.__head = None\n",
        "        self.__tail = None #\n",
        "        self.__size=0\n",
        "\n",
        "    def get_size(self):#Regresa el numero total de nodos\n",
        "        return self.__size\n",
        "\n",
        "    def is_empty(self):#Regresa true si esta vacia, false si no.\n",
        "        return self.__head == None\n",
        "\n",
        "def append(self , value ):\n",
        "        if self.is_empty() :\n",
        "            nuevo = NodoDoble( value )\n",
        "            self.__head = nuevo\n",
        "            self.__tail = nuevo\n",
        "        else:\n",
        "            nuevo = NodoDoble(value , self.__tail , None )\n",
        "            self.__tail.next = nuevo\n",
        "            self.__tail = nuevo\n",
        "        self.__size += 1\n",
        "\n",
        "def transversal( self ):\n",
        "        curr_node = self.__head\n",
        "        while curr_node != None:\n",
        "            print(f\"<-- { curr_node.data } --> \" , end=\"\")\n",
        "            curr_node = curr_node.next\n",
        "        print(\"\")\n",
        "\n",
        " def reverse_transversal( self ):\n",
        "            curr_node = self.__tail\n",
        "            while curr_node != None:\n",
        "                print(f\"<-- { curr_node.data } --> \" , end=\"\")\n",
        "                curr_node = curr_node.prev\n",
        "            print(\"\")\n",
        "def remove_from_head( self , value ):\n",
        "  curr_node = self.__head\n",
        "  if self.__head.data == value:\n",
        "\n",
        "  while curr_node.data != value and curr_node != None:\n",
        "    curr_node=curr_node.next\n",
        "  if curr_node.data == value:\n",
        "    curr_node.prev.next = curr_node.next\n",
        "    curr_node.next.prev = curr_node.prev\n",
        "  curr_node.next = None\n",
        "  curr_node.prev = None\n",
        "  self.__size -= 1"
      ],
      "execution_count": null,
      "outputs": []
    },
    {
      "cell_type": "code",
      "metadata": {
        "id": "Tk0_bKINm8nl"
      },
      "source": [
        "\n",
        "from listtwo import LinkedDoubleList\n",
        "\n",
        "ld= LinkedDoubleList()\n",
        "print(f\"Esta vacia? {ld.is_empty()}\")\n",
        "ld.append(10)\n",
        "ld.append(20)\n",
        "ld.append(30)\n",
        "print(f\"La lista tiene {ld.get_size()} elementos\")\n",
        "ld.transversal()\n",
        "ld.reverse_transversal()"
      ],
      "execution_count": null,
      "outputs": []
    }
  ]
}