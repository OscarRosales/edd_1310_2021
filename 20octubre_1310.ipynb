{
  "nbformat": 4,
  "nbformat_minor": 0,
  "metadata": {
    "colab": {
      "name": "20octubre_1310.ipynb",
      "provenance": [],
      "authorship_tag": "ABX9TyOEkrSIRGLdYYFhXIxhcIYF",
      "include_colab_link": true
    },
    "kernelspec": {
      "name": "python3",
      "display_name": "Python 3"
    }
  },
  "cells": [
    {
      "cell_type": "markdown",
      "metadata": {
        "id": "view-in-github",
        "colab_type": "text"
      },
      "source": [
        "<a href=\"https://colab.research.google.com/github/OscarRosales/edd_1310_2021/blob/master/20octubre_1310.ipynb\" target=\"_parent\"><img src=\"https://colab.research.google.com/assets/colab-badge.svg\" alt=\"Open In Colab\"/></a>"
      ]
    },
    {
      "cell_type": "code",
      "metadata": {
        "id": "v6G9De8Jv3Lp",
        "outputId": "4d4c05c3-6649-48dc-9fd2-29027aae2ff3",
        "colab": {
          "base_uri": "https://localhost:8080/",
          "height": 268
        }
      },
      "source": [
        "archivo = open('numeros.txt','rt')\n",
        "for linea in archivo.readlines():\n",
        "  for trunc in linea.split(','):\n",
        "      print(int(trunc.strip()))"
      ],
      "execution_count": 7,
      "outputs": [
        {
          "output_type": "stream",
          "text": [
            "23\n",
            "23\n",
            "44\n",
            "55\n",
            "5\n",
            "44\n",
            "4\n",
            "5\n",
            "7\n",
            "7\n",
            "6\n",
            "5\n",
            "4\n",
            "2\n",
            "1\n"
          ],
          "name": "stdout"
        }
      ]
    },
    {
      "cell_type": "markdown",
      "metadata": {
        "id": "FW-eU4Ts21yD"
      },
      "source": [
        "#sintaxis del for en python\n",
        "dos versiones de for\n",
        "  1. range\n",
        "  2. in iterator"
      ]
    },
    {
      "cell_type": "code",
      "metadata": {
        "id": "c5e-OZPv292y",
        "outputId": "06eff472-a7a3-445e-974b-c9c201d60299",
        "colab": {
          "base_uri": "https://localhost:8080/",
          "height": 167
        }
      },
      "source": [
        "r= range(0,10,2)\n",
        "for x in r:\n",
        "    print(x)\n",
        "\n",
        "colores = ['rojo', 'rosa', 'azul', 'fucsia']\n",
        "for indice in range(0,4,1): #for(indice = 0;indice <4; indice++)\n",
        "    #print(colores[indice])\n",
        "    colores[indice]=colores[indice].upper()\n",
        "\n",
        "#for sobre un iterador\n",
        "\n",
        "for col in colores:\n",
        "    print(col) "
      ],
      "execution_count": 16,
      "outputs": [
        {
          "output_type": "stream",
          "text": [
            "0\n",
            "2\n",
            "4\n",
            "6\n",
            "8\n",
            "ROJO\n",
            "ROSA\n",
            "AZUL\n",
            "FUCSIA\n"
          ],
          "name": "stdout"
        }
      ]
    },
    {
      "cell_type": "markdown",
      "metadata": {
        "id": "5Ra6LRV-7-sg"
      },
      "source": [
        "#generadores \n",
        "\n",
        "[ \"hola\" for x in range(10) ]\n",
        "[[0,0,0],\n",
        " [0,0,0],\n",
        " [0,0,0]]\n",
        "\n",
        "\n",
        " 3x3"
      ]
    },
    {
      "cell_type": "code",
      "metadata": {
        "id": "AbonMzxG8ZRi",
        "outputId": "4770feac-9622-4b82-a771-100ce4467d8c",
        "colab": {
          "base_uri": "https://localhost:8080/",
          "height": 33
        }
      },
      "source": [
        "lista = [ 0 for x in range(10) ]\n",
        "print(lista)"
      ],
      "execution_count": 19,
      "outputs": [
        {
          "output_type": "stream",
          "text": [
            "[0, 0, 0, 0, 0, 0, 0, 0, 0, 0]\n"
          ],
          "name": "stdout"
        }
      ]
    },
    {
      "cell_type": "code",
      "metadata": {
        "id": "KjVSI9BI94w-",
        "outputId": "5c5012d8-2e61-403f-d4d0-6b00dc1a233c",
        "colab": {
          "base_uri": "https://localhost:8080/",
          "height": 33
        }
      },
      "source": [
        "lista = [[0 for x in range(3)] for x in range(3)]\n",
        "print(lista)"
      ],
      "execution_count": 20,
      "outputs": [
        {
          "output_type": "stream",
          "text": [
            "[[0, 0, 0], [0, 0, 0], [0, 0, 0]]\n"
          ],
          "name": "stdout"
        }
      ]
    },
    {
      "cell_type": "code",
      "metadata": {
        "id": "tX1OmQKk-eu3",
        "outputId": "a3e023b7-4686-4784-cc48-ba32489257c1",
        "colab": {
          "base_uri": "https://localhost:8080/",
          "height": 33
        }
      },
      "source": [
        "ren = 5\n",
        "col = 3\n",
        "lista = [[0 for x in range(col)] for x in range(ren)]\n",
        "print(lista)"
      ],
      "execution_count": 22,
      "outputs": [
        {
          "output_type": "stream",
          "text": [
            "[[0, 0, 0], [0, 0, 0], [0, 0, 0], [0, 0, 0], [0, 0, 0]]\n"
          ],
          "name": "stdout"
        }
      ]
    },
    {
      "cell_type": "markdown",
      "metadata": {
        "id": "s9Lzo9nZ_GA2"
      },
      "source": [
        "# POO en Python\n",
        "- clase\n",
        "- creación de objetos\n",
        "- constructor\n",
        "- encapsulamiento\n",
        "- métodos\n",
        "- atributos\n",
        "- herencia\n",
        "\n"
      ]
    },
    {
      "cell_type": "code",
      "metadata": {
        "id": "JYm_m2Jm_aNU",
        "outputId": "d4bff0bd-5dfc-40fb-b91f-bb6e998d01cb",
        "colab": {
          "base_uri": "https://localhost:8080/",
          "height": 33
        }
      },
      "source": [
        "class Computadora:\n",
        "   def __init__( self, m, p):\n",
        "       self.__marca=m\n",
        "       self.__procesador=p\n",
        "\n",
        "   def to_string( self ):\n",
        "       return \"Marca:\"+self.__marca+\" Procesador:\"+self.__procesador\n",
        "\n",
        "mi_pc = Computadora(\"Toshiba\", \"Intel i7\") #Variable que hace referencia\n",
        "mi_pc.__marca=\"HP\"\n",
        "print(mi_pc.to_string())"
      ],
      "execution_count": 34,
      "outputs": [
        {
          "output_type": "stream",
          "text": [
            "Marca:Toshiba Procesador:Intel i7\n"
          ],
          "name": "stdout"
        }
      ]
    }
  ]
}