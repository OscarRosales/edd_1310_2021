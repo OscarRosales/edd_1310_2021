{
  "nbformat": 4,
  "nbformat_minor": 0,
  "metadata": {
    "colab": {
      "name": "12noviembre_1310.ipynb",
      "provenance": [],
      "authorship_tag": "ABX9TyOoRbUKPfvnMDhxufT55c+S",
      "include_colab_link": true
    },
    "kernelspec": {
      "name": "python3",
      "display_name": "Python 3"
    }
  },
  "cells": [
    {
      "cell_type": "markdown",
      "metadata": {
        "id": "view-in-github",
        "colab_type": "text"
      },
      "source": [
        "<a href=\"https://colab.research.google.com/github/OscarRosales/edd_1310_2021/blob/master/12noviembre_1310.ipynb\" target=\"_parent\"><img src=\"https://colab.research.google.com/assets/colab-badge.svg\" alt=\"Open In Colab\"/></a>"
      ]
    },
    {
      "cell_type": "code",
      "metadata": {
        "id": "FBCsj322xLwH",
        "outputId": "03d46170-cf60-4583-c9ca-c97d130c5737",
        "colab": {
          "base_uri": "https://localhost:8080/"
        }
      },
      "source": [
        "class Nodo:\n",
        "    def __init__( self , dato ):\n",
        "        self.dato = dato\n",
        "        self.siguiente = None\n",
        "\n",
        "\n",
        "# ejemplo 1\n",
        "a = Nodo( 12 )\n",
        "print( a.dato )\n",
        "print( a.siguiente )\n",
        "\n",
        "# ejemplo 2\n",
        "a.siguiente = Nodo( 20 )\n",
        "\n",
        "#ejemplo 3\n",
        "\n",
        "a.siguiente.siguiente=Nodo(30)\n",
        "\n",
        "#ejemplo 4\n",
        "a.siguiente.siguiente.siguiente=Nodo(40)\n",
        "\n",
        "#ejemplo 5\n",
        "a.siguiente.siguiente.siguiente.siguiente=Nodo(50)\n",
        "\n",
        "#Eliminando nodo 30 ejemplo 6\n",
        "\n",
        "a.siguiente.siguiente=a.siguiente.siguiente.siguiente\n",
        "\n",
        "# ejemplo 7\n",
        "a.siguiente.siguiente\n",
        "a.dato = 45\n",
        "\n",
        "#EJEMPLO 8 insertar dato\n",
        "\n",
        "\n",
        "\n",
        "curr_node = a\n",
        "print(curr_node.dato , \"-->\" , end=\"\")\n",
        "while( curr_node.siguiente != None ):\n",
        "    curr_node = curr_node.siguiente\n",
        "    print(curr_node.dato, \"-->\" , end=\"\")\n",
        "print(\"\")\n"
      ],
      "execution_count": 2,
      "outputs": [
        {
          "output_type": "stream",
          "text": [
            "12\n",
            "None\n",
            "45 -->20 -->40 -->50 -->\n"
          ],
          "name": "stdout"
        }
      ]
    },
    {
      "cell_type": "code",
      "metadata": {
        "id": "9JlVrRksyjfJ",
        "outputId": "824b994d-1b18-4af1-c6b7-97e4a32eafda",
        "colab": {
          "base_uri": "https://localhost:8080/"
        }
      },
      "source": [
        "class Nodo:\n",
        "    def __init__( self , dato , sig=None):\n",
        "        self.dato = dato\n",
        "        self.siguiente = sig\n",
        "\n",
        "\n",
        "# ejemplo 1\n",
        "a = Nodo( 10 )\n",
        "\n",
        "# ejemplo 2 RECONSTRUCCION\n",
        "a = Nodo( 10 , Nodo(20 , Nodo(30)) )\n",
        "a = Nodo( 10 , Nodo(20 , Nodo(30, Nodo(40 , Nodo(50)))))\n",
        "\n",
        "\n",
        "\n",
        "curr_node = a\n",
        "print(curr_node.dato , \"-->\" , end=\"\")\n",
        "while( curr_node.siguiente != None ):\n",
        "    curr_node = curr_node.siguiente\n",
        "    print(curr_node.dato, \"-->\" , end=\"\")\n",
        "print(\"\")"
      ],
      "execution_count": 3,
      "outputs": [
        {
          "output_type": "stream",
          "text": [
            "10 -->20 -->30 -->40 -->50 -->\n"
          ],
          "name": "stdout"
        }
      ]
    }
  ]
}