{
  "nbformat": 4,
  "nbformat_minor": 0,
  "metadata": {
    "colab": {
      "name": "14octubre_1310.ipynb",
      "provenance": [],
      "toc_visible": true,
      "authorship_tag": "ABX9TyOS570ymxlH0JJK7ZPOif32",
      "include_colab_link": true
    },
    "kernelspec": {
      "name": "python3",
      "display_name": "Python 3"
    }
  },
  "cells": [
    {
      "cell_type": "markdown",
      "metadata": {
        "id": "view-in-github",
        "colab_type": "text"
      },
      "source": [
        "<a href=\"https://colab.research.google.com/github/OscarRosales/edd_1310_2021/blob/master/14octubre_1310.ipynb\" target=\"_parent\"><img src=\"https://colab.research.google.com/assets/colab-badge.svg\" alt=\"Open In Colab\"/></a>"
      ]
    },
    {
      "cell_type": "code",
      "metadata": {
        "id": "LU7N3kBDAnha"
      },
      "source": [
        ""
      ],
      "execution_count": null,
      "outputs": []
    },
    {
      "cell_type": "markdown",
      "metadata": {
        "id": "i5L5tup-ByD8"
      },
      "source": [
        "#Módulos\n",
        "son recursos reutilizables que contienen varias funciones que pueden ser importadas a tu código.\n"
      ]
    },
    {
      "cell_type": "code",
      "metadata": {
        "id": "sYmC6fB7CD_r"
      },
      "source": [
        "\"\"\"\n",
        "import mi_modulo\n",
        "\n",
        "x = mi_modulo.sumar( 4 , 7 )\n",
        "\n",
        "print( x )\n",
        "\n",
        "print( mi_modulo.multiplicar(3,5))"
      ],
      "execution_count": null,
      "outputs": []
    },
    {
      "cell_type": "code",
      "metadata": {
        "id": "4LsH8jWNKWHQ",
        "outputId": "62203a68-7d69-4d02-f6a7-a4e835f6a9d5",
        "colab": {
          "base_uri": "https://localhost:8080/",
          "height": 50
        }
      },
      "source": [
        "from mi_modulo import sumar, dividir\n",
        "\n",
        "print(sumar( 4 , 7 ))\n",
        "print(dividir(14,7))"
      ],
      "execution_count": 1,
      "outputs": [
        {
          "output_type": "stream",
          "text": [
            "11\n",
            "2.0\n"
          ],
          "name": "stdout"
        }
      ]
    },
    {
      "cell_type": "code",
      "metadata": {
        "id": "fL7f8rWVLRsD",
        "outputId": "0e664304-7837-40df-f2ff-1b82af539466",
        "colab": {
          "base_uri": "https://localhost:8080/",
          "height": 33
        }
      },
      "source": [
        "import mi_modulo as patito\n",
        "\n",
        "print(patito.sumar (4,6))"
      ],
      "execution_count": 30,
      "outputs": [
        {
          "output_type": "stream",
          "text": [
            "10\n"
          ],
          "name": "stdout"
        }
      ]
    },
    {
      "cell_type": "code",
      "metadata": {
        "id": "42zhosIeOEIZ",
        "outputId": "50ed8fbf-e989-4ccb-c6ac-35842dc410f8",
        "colab": {
          "base_uri": "https://localhost:8080/",
          "height": 52
        }
      },
      "source": [
        "from joke_generator import generate\n",
        "\n",
        "generate( )"
      ],
      "execution_count": 7,
      "outputs": [
        {
          "output_type": "execute_result",
          "data": {
            "application/vnd.google.colaboratory.intrinsic+json": {
              "type": "string"
            },
            "text/plain": [
              "'I thought my wife was joking when she said she\\'d leave me if I didn\\'t stop signing \"I\\'m A Believer\"... Then I saw her face.'"
            ]
          },
          "metadata": {
            "tags": []
          },
          "execution_count": 7
        }
      ]
    },
    {
      "cell_type": "markdown",
      "metadata": {
        "id": "6hAG2xwNSRH9"
      },
      "source": [
        "#Archivos\n",
        "- open ( str, str)\n",
        "   1. Nombre o ruta del archivo\n",
        "   2. dos caracteres\n",
        "       - modo de apertura del archivo ( r, w , a append si y solo si el archivo si existe, x append si y solo si el archivo no existe  )\n",
        "       - formato del archivo ( t o b )\n"
      ]
    },
    {
      "cell_type": "code",
      "metadata": {
        "id": "wPxO2_-kStxd"
      },
      "source": [
        "archivo = open (\"saludo.txt\",\"wt\")\n",
        "archivo.write(\"Hola mundo \\n Ola ke aze\")\n",
        "archivo.close()"
      ],
      "execution_count": 10,
      "outputs": []
    },
    {
      "cell_type": "code",
      "metadata": {
        "id": "98I-YniBUeML",
        "outputId": "ff24dd9f-ae1a-4665-ecc0-4a8e1a6159f1",
        "colab": {
          "base_uri": "https://localhost:8080/",
          "height": 150
        }
      },
      "source": [
        "otro = open('./sample_data/anscombe.json',\"rt\")\n",
        "datos = otro.read()\n",
        "#print(datos)\n",
        "otro.close()\n",
        "\n",
        "\n",
        "arch = open('frutas.txt','rt')\n",
        "data = 'ppp'\n",
        "while (data != ''):\n",
        "  data = arch.readline()\n",
        "  print(data)\n",
        "\n",
        "\n",
        "arch.close()\n",
        "arch = open('frutas.txt','rt')\n",
        "list_frutas = arch.readlines()\n",
        "print(list_frutas)\n",
        "arch.close()"
      ],
      "execution_count": 22,
      "outputs": [
        {
          "output_type": "stream",
          "text": [
            "manzana, pera, kiwi, aguacate\n",
            "\n",
            "limon, naranja\n",
            "\n",
            "sandia, papaya\n",
            "\n",
            "\n",
            "['manzana, pera, kiwi, aguacate\\n', 'limon, naranja\\n', 'sandia, papaya\\n']\n"
          ],
          "name": "stdout"
        }
      ]
    },
    {
      "cell_type": "code",
      "metadata": {
        "id": "qLciNwzDWoBI"
      },
      "source": [
        ""
      ],
      "execution_count": null,
      "outputs": []
    }
  ]
}