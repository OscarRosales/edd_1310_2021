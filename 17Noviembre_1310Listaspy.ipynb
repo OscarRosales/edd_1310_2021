{
  "nbformat": 4,
  "nbformat_minor": 0,
  "metadata": {
    "colab": {
      "name": "17Noviembre_1310Listaspy.ipynb",
      "provenance": [],
      "authorship_tag": "ABX9TyPMPcX+vTNU0pK6Seny5XfG"
    },
    "kernelspec": {
      "name": "python3",
      "display_name": "Python 3"
    }
  },
  "cells": [
    {
      "cell_type": "code",
      "metadata": {
        "id": "Vd8UTSDQVe7l"
      },
      "source": [
        "class Nodo:\n",
        "   def __init__( self, value, siguiente= None):\n",
        "      self.data = value     #falta encapsulamiento\n",
        "      self.siguiente = siguiente\n",
        "class LinkedLists:\n",
        "   def __init__( self ): #cualquier comentario\n",
        "     self.__head = None\n",
        "\n",
        "   def is_empty( self ):\n",
        "     return self.__head == None\n",
        "\n",
        "   def append( self, value ):\n",
        "       nuevo = Nodo( value )\n",
        "       if self.__head == None: #self.is_empty()\n",
        "          self.__head == nuevo\n",
        "       else:\n",
        "        curr_node = self.__head\n",
        "        while curr_node.siguiente != None:\n",
        "              curr_node = curr_node.siguiente\n",
        "        curr_node.siguiente = nuevo\n",
        "   def transversal( self ):\n",
        "        curr_node = self.__head\n",
        "        while curr_node != None:\n",
        "           print(f\" { curr_node.data } ->\", end=\"\")\n",
        "           curr_node = curr_node.siguiente\n",
        "        print(\"\")\n",
        "   def remove(self , value):\n",
        "        curr_node = self.__head\n",
        "        while curr_node.data != value and curr_node.siguiente != None:\n",
        "            curr_node = curr_node.siguiente\n",
        "        if curr_node.data == value:\n",
        "\n",
        "              \n",
        "\n",
        "from listas import LinkedList\n",
        "\n",
        "l = LinkedList()\n",
        "print(f\"l esta vacia ? { l.is_empty() }\" )\n",
        "l.append(10)\n",
        "l.append(5)\n",
        "l.append(6)\n",
        "l.append(20)\n",
        "print(f\"l esta vacia ? { l.is_empty() }\" )\n",
        "l.transversal()"
      ],
      "execution_count": null,
      "outputs": []
    }
  ]
}