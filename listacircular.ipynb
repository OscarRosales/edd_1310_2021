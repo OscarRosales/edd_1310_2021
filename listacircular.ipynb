{
  "nbformat": 4,
  "nbformat_minor": 0,
  "metadata": {
    "colab": {
      "name": "listacircular.ipynb",
      "provenance": [],
      "authorship_tag": "ABX9TyMxueWFZKZ5XqlcRNh83tJN"
    },
    "kernelspec": {
      "name": "python3",
      "display_name": "Python 3"
    }
  },
  "cells": [
    {
      "cell_type": "code",
      "metadata": {
        "id": "wYAaZ5x_0wAs"
      },
      "source": [
        "\n",
        "class Nodo:\n",
        "\n",
        "\n",
        "    def __init__(self, value, siguiente = None):\n",
        "        self.data = value \n",
        "        self.siguiente = siguiente\n",
        "\n",
        "\n",
        "class CircleList:\n",
        "    \n",
        "\n",
        "    def __init__(self):\n",
        "        self.__ref = None\n",
        "\n",
        "\n",
        "    def is_empty(self):\n",
        "        return self.__ref == None \n",
        "\n",
        "\n",
        "    def insert(self, value):\n",
        "        nuevo = Nodo(value)\n",
        "        curr_node = self.__ref\n",
        "        if self.__ref == None:\n",
        "            self.__ref = nuevo\n",
        "        else:\n",
        "            while curr_node.siguiente != None:\n",
        "                curr_node = curr_node.siguiente\n",
        "            curr_node.siguiente = nuevo\n",
        "\n",
        "\n",
        "    def transversal(self):\n",
        "        curr_node = self.__ref\n",
        "        while curr_node != None:\n",
        "            print(f\"{curr_node.data} -->\", end=\"\")\n",
        "            curr_node = curr_node.siguiente\n",
        "        print(\" \")        \n",
        "\n",
        "    def search(self,value):\n",
        "        curr_node = self.__ref\n",
        "        while curr_node.data != value or curr_node.siguiente != None :\n",
        "            curr_node = curr_node.siguiente\n",
        "            if curr_node.data == value:\n",
        "                return print(True)\n",
        "            else:\n",
        "                return print(False) \n",
        "\n",
        "    def remove(self, value):\n",
        "        pass\n",
        "\n"
      ],
      "execution_count": null,
      "outputs": []
    },
    {
      "cell_type": "code",
      "metadata": {
        "id": "qCgq90w401Rl"
      },
      "source": [
        "from lista_circular import CircleList\n",
        "\n",
        "lista = CircleList()\n",
        "\n",
        "print(f\"La Lista esta vacia?: {lista.is_empty()}\")\n",
        "lista.insert(8)\n",
        "lista.insert(9)\n",
        "lista.insert(10)\n",
        "lista.insert(11)\n",
        "\n",
        "#lista.insert(8)\n",
        "lista.transversal()\n",
        "lista.search(12)"
      ],
      "execution_count": null,
      "outputs": []
    }
  ]
}