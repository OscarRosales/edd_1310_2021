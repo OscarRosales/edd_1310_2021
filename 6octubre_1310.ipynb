{
  "nbformat": 4,
  "nbformat_minor": 0,
  "metadata": {
    "colab": {
      "name": "6octubre_1310.ipynb",
      "provenance": [],
      "authorship_tag": "ABX9TyOe/qEmXyGDzcQMz7UpiFkR",
      "include_colab_link": true
    },
    "kernelspec": {
      "name": "python3",
      "display_name": "Python 3"
    }
  },
  "cells": [
    {
      "cell_type": "markdown",
      "metadata": {
        "id": "view-in-github",
        "colab_type": "text"
      },
      "source": [
        "<a href=\"https://colab.research.google.com/github/OscarRosales/edd_1310_2021/blob/master/6octubre_1310.ipynb\" target=\"_parent\"><img src=\"https://colab.research.google.com/assets/colab-badge.svg\" alt=\"Open In Colab\"/></a>"
      ]
    },
    {
      "cell_type": "code",
      "metadata": {
        "id": "YIMFhey0qZ18",
        "outputId": "df8de0bb-585c-4259-9767-595b74f8a78d",
        "colab": {
          "base_uri": "https://localhost:8080/",
          "height": 336
        }
      },
      "source": [
        "#String continuación \n",
        "\n",
        "frase= \"Si funciona... ¡no lo compongas!\"\n",
        "numeros_txt = \"  1,2,3,4,  5, 35, 15, 12 \"\n",
        "print(numeros_txt)\n",
        "numeros_txt = numeros_txt.lstrip().split(',')\n",
        "print(numeros_txt)\n",
        "\n",
        "for j in range (len(numeros_txt)):\n",
        "  numeros_txt[ j ]=int (numeros_txt[j].strip())\n",
        "print (numeros_txt)\n",
        " \n",
        "#funcion range ()\n",
        "#range (inicio, stop, incremento)\n",
        "print(range(1,10,3))\n",
        "rango = range(1,10,2)\n",
        "for x in rango:\n",
        "  print(x)\n",
        "rango= range(10)\n",
        "for x in rango:\n",
        "  print(x)"
      ],
      "execution_count": 8,
      "outputs": [
        {
          "output_type": "stream",
          "text": [
            "  1,2,3,4,  5, 35, 15, 12 \n",
            "['1', '2', '3', '4', '  5', ' 35', ' 15', ' 12 ']\n",
            "[1, 2, 3, 4, 5, 35, 15, 12]\n",
            "range(1, 10, 3)\n",
            "1\n",
            "3\n",
            "5\n",
            "7\n",
            "9\n",
            "0\n",
            "1\n",
            "2\n",
            "3\n",
            "4\n",
            "5\n",
            "6\n",
            "7\n",
            "8\n",
            "9\n"
          ],
          "name": "stdout"
        }
      ]
    },
    {
      "cell_type": "markdown",
      "metadata": {
        "id": "asHOxxiOxXO_"
      },
      "source": [
        "# Listas\n",
        "- mutables\n",
        "- declaran con [ ]\n",
        "- slector [ int ]\n",
        "\n",
        "\n",
        "# Tuplas\n",
        "- NO mutables\n",
        "- declaran vcon ( )\n",
        "- selector [ int ]\n",
        "\n",
        "# Diccionarios\n",
        "- Son mutables\n",
        "- son conjunto de pares llave:valor\n",
        "-equivalentes a los objetos JSON de Java\n",
        "\n",
        "# Conjuntos\n",
        "- representacion de la teoria de conjuntos\n"
      ]
    },
    {
      "cell_type": "code",
      "metadata": {
        "id": "dgGhV6WOyR3J",
        "outputId": "3a3d1b88-fa6c-4238-8062-a926dc645628",
        "colab": {
          "base_uri": "https://localhost:8080/",
          "height": 269
        }
      },
      "source": [
        "#listas \n",
        "frutas= [\"Pera\", \"Manzana\", \"Fresa\", \"Kiwi\", \"Naranja\"]\n",
        "print(frutas)\n",
        "cosas = [\"cuaderno\", 2, 3.1416, True, False, [\"Rojo\", \"Azul\"]]\n",
        "print (cosas)\n",
        "frutas[2]=\"Fresa\" #frutas[2]=frutas[2].capitalize()\n",
        "print(frutas)\n",
        "#agregar a la lista\n",
        "frutas.append(\"Aguacate\")\n",
        "print(frutas)\n",
        "frutas.insert(2,\"sandia\")\n",
        "print(frutas)\n",
        "\n",
        "#concatenar listas\n",
        "fecha= [\"06\", \"10\", \"2020\"] #06/10/2020\n",
        "print(fecha)\n",
        "fecha_str=\"/\".join(fecha)\n",
        "print(fecha_str)\n",
        "\n",
        "#eliminar elementos\n",
        "print(cosas)\n",
        "cosas.append(\"Libro\")\n",
        "cosas.append(\"Lápiz\")\n",
        "print(cosas)\n",
        "algo= cosas.pop()\n",
        "print(cosas)\n",
        "algo= cosas.pop(2)\n",
        "print(cosas)\n",
        "print(algo)\n",
        "\n",
        "#vaciar una lista\n",
        "#cosas.clear ()\n",
        "print(cosas)\n",
        "\n",
        "#ordenar\n",
        "print(frutas)\n",
        "frutas.sort()\n",
        "print(frutas)\n"
      ],
      "execution_count": 24,
      "outputs": [
        {
          "output_type": "stream",
          "text": [
            "['Pera', 'Manzana', 'Fresa', 'Kiwi', 'Naranja']\n",
            "['cuaderno', 2, 3.1416, True, False, ['Rojo', 'Azul']]\n",
            "['Pera', 'Manzana', 'Fresa', 'Kiwi', 'Naranja']\n",
            "['Pera', 'Manzana', 'Fresa', 'Kiwi', 'Naranja', 'Aguacate']\n",
            "['Pera', 'Manzana', 'sandia', 'Fresa', 'Kiwi', 'Naranja', 'Aguacate']\n",
            "['06', '10', '2020']\n",
            "06/10/2020\n",
            "['cuaderno', 2, 3.1416, True, False, ['Rojo', 'Azul']]\n",
            "['cuaderno', 2, 3.1416, True, False, ['Rojo', 'Azul'], 'Libro', 'Lápiz']\n",
            "['cuaderno', 2, 3.1416, True, False, ['Rojo', 'Azul'], 'Libro']\n",
            "['cuaderno', 2, True, False, ['Rojo', 'Azul'], 'Libro']\n",
            "3.1416\n",
            "['cuaderno', 2, True, False, ['Rojo', 'Azul'], 'Libro']\n",
            "['Pera', 'Manzana', 'sandia', 'Fresa', 'Kiwi', 'Naranja', 'Aguacate']\n",
            "['Aguacate', 'Fresa', 'Kiwi', 'Manzana', 'Naranja', 'Pera', 'sandia']\n"
          ],
          "name": "stdout"
        }
      ]
    },
    {
      "cell_type": "code",
      "metadata": {
        "id": "DJGUDolE7Iv3",
        "outputId": "8f8f1a33-f007-4c52-bf35-54c5ae17c150",
        "colab": {
          "base_uri": "https://localhost:8080/",
          "height": 118
        }
      },
      "source": [
        "#Slicing\n",
        "\n",
        "cosas = [\"cuaderno\", 2, 3.1416, True, False, [\"Rojo\", \"Azul\"]]\n",
        "print(cosas[3:5:1])\n",
        "print(cosas)\n",
        "print(cosas[0][3:5:1])\n",
        "\n",
        "numeros=[0,1,2,3,4,5,6,7,8,9,10,11,12,13,14,15]\n",
        "print(numeros[8:13:])\n",
        "\n",
        "#sustituir rebanadas -2,-2 ->[0,1,2,3,4,5,6,7,8,9,10,11,12,13,14,15]\n",
        "numeros[8:13:]=[-2,-2]\n",
        "print(numeros)\n",
        "\n",
        "#preguntar por existencia\n",
        "print(100 in numeros)"
      ],
      "execution_count": 38,
      "outputs": [
        {
          "output_type": "stream",
          "text": [
            "[True, False]\n",
            "['cuaderno', 2, 3.1416, True, False, ['Rojo', 'Azul']]\n",
            "de\n",
            "[8, 9, 10, 11, 12]\n",
            "[0, 1, 2, 3, 4, 5, 6, 7, -2, -2, 13, 14, 15]\n",
            "False\n"
          ],
          "name": "stdout"
        }
      ]
    },
    {
      "cell_type": "markdown",
      "metadata": {
        "id": "62fJp2bx-k2G"
      },
      "source": [
        "#Listas multidimensión\n",
        "Listas dentro de listas"
      ]
    },
    {
      "cell_type": "code",
      "metadata": {
        "id": "bcA2bn0T-sPS",
        "outputId": "b90e53d4-b389-4269-a0b6-a93f1cc96f20",
        "colab": {
          "base_uri": "https://localhost:8080/",
          "height": 185
        }
      },
      "source": [
        "computadoras=[\"HP\", \"Mac Book Pro 17\", \"Mate Book\", \"Lenovo Legion\"]\n",
        "oss = [\"windows 10\", \"Linux\", \"Androi\",\"iOS\"]\n",
        "\n",
        "computo=[computadoras, oss]\n",
        "print(computo[0])\n",
        "print(computo[1])\n",
        "print(computo[0][2])\n",
        "print(computo[0][2][0:5])\n",
        "print(computo[0][3][5: :-1])\n",
        "print(computo[0][3][-8: :-1])\n",
        "print(\"Linux\" in computo[1])\n",
        "dbms = [[\"Mysql\", \"Open Source\", False], [\"MS Ql Server\", \"de paga\", True]]\n",
        "computo.append(dbms)\n",
        "print(computo)\n",
        "print(computo[2][0][0])\n",
        "print(computo[2][1][1])"
      ],
      "execution_count": 48,
      "outputs": [
        {
          "output_type": "stream",
          "text": [
            "['HP', 'Mac Book Pro 17', 'Mate Book', 'Lenovo Legion']\n",
            "['windows 10', 'Linux', 'Androi', 'iOS']\n",
            "Mate Book\n",
            "Mate \n",
            "ovoneL\n",
            "ovoneL\n",
            "True\n",
            "[['HP', 'Mac Book Pro 17', 'Mate Book', 'Lenovo Legion'], ['windows 10', 'Linux', 'Androi', 'iOS'], [['Mysql', 'Open Source', False], ['MS Ql Server', 'de paga', True]]]\n",
            "Mysql\n",
            "de paga\n"
          ],
          "name": "stdout"
        }
      ]
    }
  ]
}