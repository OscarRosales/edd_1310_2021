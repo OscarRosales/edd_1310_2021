{
  "nbformat": 4,
  "nbformat_minor": 0,
  "metadata": {
    "colab": {
      "name": "27octubre_1310.ipynb",
      "provenance": [],
      "authorship_tag": "ABX9TyP4DYX5VxSbYpDpC4tOtn3F",
      "include_colab_link": true
    },
    "kernelspec": {
      "name": "python3",
      "display_name": "Python 3"
    }
  },
  "cells": [
    {
      "cell_type": "markdown",
      "metadata": {
        "id": "view-in-github",
        "colab_type": "text"
      },
      "source": [
        "<a href=\"https://colab.research.google.com/github/OscarRosales/edd_1310_2021/blob/master/27octubre_1310.ipynb\" target=\"_parent\"><img src=\"https://colab.research.google.com/assets/colab-badge.svg\" alt=\"Open In Colab\"/></a>"
      ]
    },
    {
      "cell_type": "code",
      "metadata": {
        "id": "EFT5GjoDBTKO",
        "outputId": "42fea5af-96c6-43ba-e59b-d08a6807d773",
        "colab": {
          "base_uri": "https://localhost:8080/",
          "height": 67
        }
      },
      "source": [
        "class Computadora:\n",
        "    def __init__( self , m , p):\n",
        "        self.__marca = m\n",
        "        self.__procesador = p\n",
        "\n",
        "    def to_string( self ):\n",
        "        return \"MArca:\"+self.__marca+\" Procesador:\"+self.__procesador\n",
        "\n",
        "    def set_marca( self, m):\n",
        "        self.__marca = m\n",
        "\n",
        "    def get_marca( self ):\n",
        "        return self.__marca\n",
        "\n",
        "    def set_procesador( self, p):\n",
        "        self.__procesador = p\n",
        "\n",
        "    def get_procesador( self ):\n",
        "        return self.__procesador\n",
        "\n",
        "\n",
        "mi_pc = Computadora(\"Toshiba\",\"Intel i7\")\n",
        "print(mi_pc.to_string())\n",
        "mi_pc.__marca=\"HP \" #intentando cambiar el valor privado\n",
        "mi_pc.set_marca(\"HP co.\")\n",
        "print(mi_pc.to_string())\n",
        "#print(mi_pc.__procesador)\n",
        "print( mi_pc.get_procesador() )"
      ],
      "execution_count": 10,
      "outputs": [
        {
          "output_type": "stream",
          "text": [
            "MArca:Toshiba Procesador:Intel i7\n",
            "MArca:HP co. Procesador:Intel i7\n",
            "Intel i7\n"
          ],
          "name": "stdout"
        }
      ]
    },
    {
      "cell_type": "markdown",
      "metadata": {
        "id": "QrquaYE_EYct"
      },
      "source": [
        "#encapsulamiento python 3\n",
        "##tradicional tipo java\n",
        "    void setAtributo( val )\n",
        "    tipo getAtributto ( )\n",
        "#estilo python 3\n",
        "UTILIZANDO DECORADORES\n",
        "  - @property\n",
        "  - @atributo.setter"
      ]
    },
    {
      "cell_type": "code",
      "metadata": {
        "id": "uPEcrljcH_0a",
        "outputId": "513cd519-9b77-4a5a-abb0-09c8e76f8fee",
        "colab": {
          "base_uri": "https://localhost:8080/",
          "height": 100
        }
      },
      "source": [
        "class Computadora:\n",
        "      def __init__( self, m, p ):\n",
        "         self.marca = m #se manda a llamar el decorador @property\n",
        "         self.procesador = p #idem\n",
        "\n",
        "\n",
        "      @property        #declara como atributo privado y funciona como método get\n",
        "      def marca( self ):\n",
        "          return self.__marca\n",
        "\n",
        "      @marca.setter\n",
        "      def marca( self, m ):\n",
        "          print(\" En el setter de MARCA\")\n",
        "          self.__marca = m\n",
        "      \n",
        "      @property\n",
        "      def procesador( self ):\n",
        "          return self.__procesador\n",
        "\n",
        "      @procesador.setter \n",
        "      def procesador( self, p ):\n",
        "          print(\" En el método set de procesador\")\n",
        "          self.__procesador = p    \n",
        "     \n",
        "\n",
        "\n",
        "      def to_string( self ):\n",
        "          return \"marca:\" + self.marca + \"Procesador:\"+self.procesador\n",
        "\n",
        "mi_pc2 = Computadora(\" MacBook Pro \", \" Intel i7 \")\n",
        "print( mi_pc2.to_string())\n",
        "mi_pc2.marca = \" Dell \"\n",
        "print( mi_pc2.to_string())\n",
        "        "
      ],
      "execution_count": 21,
      "outputs": [
        {
          "output_type": "stream",
          "text": [
            " En el setter de MARCA\n",
            " En el método set de procesador\n",
            "marca: MacBook Pro Procesador: Intel i7 \n",
            " En el setter de MARCA\n",
            "marca: Dell Procesador: Intel i7 \n"
          ],
          "name": "stdout"
        }
      ]
    },
    {
      "cell_type": "code",
      "metadata": {
        "id": "yeLWr7dTRU4K",
        "outputId": "6717c986-cb31-418d-cd8f-673941a54b69",
        "colab": {
          "base_uri": "https://localhost:8080/",
          "height": 84
        }
      },
      "source": [
        "# Herencia , pasando la clase base a la declaracion\n",
        "class ServidorEmpresarial( Computadora ):\n",
        "   def __init__( self ):\n",
        "    print(\"Hola servidor\")\n",
        "server = ServidorEmpresarial()\n",
        "server.marca = \"Sun micro Systems\"\n",
        "server.procesador = \"Intel i7\"\n",
        "print(server.to_string() )"
      ],
      "execution_count": 23,
      "outputs": [
        {
          "output_type": "stream",
          "text": [
            "Hola servidor\n",
            " En el setter de MARCA\n",
            " En el método set de procesador\n",
            "marca:Sun micro SystemsProcesador:Intel i7\n"
          ],
          "name": "stdout"
        }
      ]
    }
  ]
}