{
  "nbformat": 4,
  "nbformat_minor": 0,
  "metadata": {
    "colab": {
      "name": "29septiembre.ipynb",
      "provenance": [],
      "authorship_tag": "ABX9TyPRKFzWzKkDT4O9PCXqRKXq",
      "include_colab_link": true
    },
    "kernelspec": {
      "name": "python3",
      "display_name": "Python 3"
    }
  },
  "cells": [
    {
      "cell_type": "markdown",
      "metadata": {
        "id": "view-in-github",
        "colab_type": "text"
      },
      "source": [
        "<a href=\"https://colab.research.google.com/github/OscarRosales/edd_1310_2021/blob/master/29septiembre.ipynb\" target=\"_parent\"><img src=\"https://colab.research.google.com/assets/colab-badge.svg\" alt=\"Open In Colab\"/></a>"
      ]
    },
    {
      "cell_type": "code",
      "metadata": {
        "id": "x6OFaV0qszyG"
      },
      "source": [
        "edad=10"
      ],
      "execution_count": null,
      "outputs": []
    },
    {
      "cell_type": "code",
      "metadata": {
        "id": "XhH_mSamB3Tl",
        "outputId": "da88e26b-3f94-4696-d6be-6f35ea19b54d",
        "colab": {
          "base_uri": "https://localhost:8080/",
          "height": 50
        }
      },
      "source": [
        "print(edad)\n",
        "colores = ['rojo','azul','verde','morado','violeta']\n",
        "print(colores)"
      ],
      "execution_count": null,
      "outputs": [
        {
          "output_type": "stream",
          "text": [
            "10\n",
            "['rojo', 'azul', 'verde', 'morado', 'violeta']\n"
          ],
          "name": "stdout"
        }
      ]
    },
    {
      "cell_type": "code",
      "metadata": {
        "id": "PCCu1lKtCDau",
        "outputId": "e74e9caf-6e78-45b7-d9d7-df9ae6f9d80a",
        "colab": {
          "base_uri": "https://localhost:8080/",
          "height": 34
        }
      },
      "source": [
        "print(colores[3])"
      ],
      "execution_count": null,
      "outputs": [
        {
          "output_type": "stream",
          "text": [
            "morado\n"
          ],
          "name": "stdout"
        }
      ]
    },
    {
      "cell_type": "code",
      "metadata": {
        "id": "VMeq79cQCb7A",
        "outputId": "c7a7fa6e-111d-4f8f-b7ed-650cdbb2269e",
        "colab": {
          "base_uri": "https://localhost:8080/",
          "height": 67
        }
      },
      "source": [
        "#solo mostrar la 'ra' de morado\n",
        "print(colores[3][2:4])\n",
        "nombre = 'Alberto'\n",
        "print(nombre[0])\n",
        "print(nombre[0:3:1])\n"
      ],
      "execution_count": null,
      "outputs": [
        {
          "output_type": "stream",
          "text": [
            "ra\n",
            "A\n",
            "Alb\n"
          ],
          "name": "stdout"
        }
      ]
    },
    {
      "cell_type": "markdown",
      "metadata": {
        "id": "9N5WiKhSCz-_"
      },
      "source": [
        "# For en Python 3\n",
        "\n",
        "2 variantes\n",
        "\n",
        "in range (ini, tope, incremento)\n",
        "in (iterador)"
      ]
    },
    {
      "cell_type": "code",
      "metadata": {
        "id": "9zijmEzsDBrV",
        "outputId": "5110480c-d5f5-4486-b525-52303dff6f13",
        "colab": {
          "base_uri": "https://localhost:8080/",
          "height": 101
        }
      },
      "source": [
        "for j in range (0,5,1):  #va de 0 a 5 de uno en uno\n",
        "  print(colores[j])\n",
        "#arreglo es igual a una lista pero en python"
      ],
      "execution_count": null,
      "outputs": [
        {
          "output_type": "stream",
          "text": [
            "rojo\n",
            "azul\n",
            "verde\n",
            "morado\n",
            "violeta\n"
          ],
          "name": "stdout"
        }
      ]
    },
    {
      "cell_type": "code",
      "metadata": {
        "id": "NH7zcxnIDftj",
        "outputId": "3cd67371-3e7e-4eff-dc0f-3c38bcc919e6",
        "colab": {
          "base_uri": "https://localhost:8080/",
          "height": 101
        }
      },
      "source": [
        "for color in colores:\n",
        "   print(color)"
      ],
      "execution_count": null,
      "outputs": [
        {
          "output_type": "stream",
          "text": [
            "rojo\n",
            "azul\n",
            "verde\n",
            "morado\n",
            "violeta\n"
          ],
          "name": "stdout"
        }
      ]
    },
    {
      "cell_type": "code",
      "metadata": {
        "id": "m2Fr39UbDipN",
        "outputId": "25a98fc1-a250-4e73-87de-3fb189fa5c42",
        "colab": {
          "base_uri": "https://localhost:8080/",
          "height": 134
        }
      },
      "source": [
        "for j in range(0,len(nombre),1):  #solo requiere el stop, siempre inicia en 0 y va de uno en uno, a menos que se indique lo contrario\n",
        "  print(nombre[j])\n",
        "  "
      ],
      "execution_count": null,
      "outputs": [
        {
          "output_type": "stream",
          "text": [
            "A\n",
            "l\n",
            "b\n",
            "e\n",
            "r\n",
            "t\n",
            "o\n"
          ],
          "name": "stdout"
        }
      ]
    },
    {
      "cell_type": "markdown",
      "metadata": {
        "id": "R792Dd1QDpO6"
      },
      "source": [
        "# Que es markdown\n",
        "markdown es un lenguaje de marcado para documentar código. El objetivo es simplificar la escritura de lenguaje html.\n",
        "***\n",
        "**negritas**\n",
        "***\n",
        "![Far.jpg](data:image/jpeg;base64,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)"
      ]
    },
    {
      "cell_type": "code",
      "metadata": {
        "id": "rxdey2qODv2S",
        "outputId": "60eed03a-0082-4a80-b451-81f9e0bd03a4",
        "colab": {
          "base_uri": "https://localhost:8080/",
          "height": 134
        }
      },
      "source": [
        "for letra in nombre:\n",
        "    print(letra)"
      ],
      "execution_count": null,
      "outputs": [
        {
          "output_type": "stream",
          "text": [
            "A\n",
            "l\n",
            "b\n",
            "e\n",
            "r\n",
            "t\n",
            "o\n"
          ],
          "name": "stdout"
        }
      ]
    }
  ]
}