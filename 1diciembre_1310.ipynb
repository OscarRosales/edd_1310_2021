{
  "nbformat": 4,
  "nbformat_minor": 0,
  "metadata": {
    "colab": {
      "name": "1diciembre_1310.ipynb",
      "provenance": [],
      "authorship_tag": "ABX9TyOVU/DvFnFKWBa8OkWHq9A8"
    },
    "kernelspec": {
      "name": "python3",
      "display_name": "Python 3"
    }
  },
  "cells": [
    {
      "cell_type": "code",
      "metadata": {
        "id": "bEJYpEiDRaBB"
      },
      "source": [
        "\"\"\"\n",
        "Array2D\n",
        "\"\"\"\n",
        "\n",
        "class Array2D:\n",
        "\n",
        "    def __init__(self,rows, cols, value):\n",
        "        self.__cols = cols\n",
        "        self.__rows = rows\n",
        "        self.__array=[[value for x in range(self.__cols)] for y in range(self.__rows)]\n",
        "\n",
        "    def to_string(self):\n",
        "        [print(\"---\",end=\"\") for x in range(self.__cols)]\n",
        "        print(\"\")\n",
        "        for ren in self.__array:\n",
        "            print(ren)\n",
        "        [print(\"---\",end=\"\") for x in range(self.__cols)]\n",
        "        print(\"\")\n",
        "\n",
        "    def get_num_rows(self):\n",
        "        return self.__rows\n",
        "\n",
        "    def get_num_cols(self):\n",
        "        return self.__cols\n",
        "\n",
        "    def get_item(self,row,col):\n",
        "        return self.__array[row][col]\n",
        "\n",
        "    def set_item( self , row , col , valor ):\n",
        "        self.__array[row][col]=valor\n",
        "\n",
        "    def clearing(self, valor=0):\n",
        "        for ren in range(self.__rows):\n",
        "            for col in range(self.__cols):\n",
        "                self.__array[ren][col]=valor"
      ],
      "execution_count": null,
      "outputs": []
    },
    {
      "cell_type": "code",
      "metadata": {
        "id": "VB1Iqkytr6vs"
      },
      "source": [
        "from array2d import Array2D\n",
        "\n",
        "class laberintoADT:\n",
        "    \n",
        "    \"\"\"\n",
        "    0 pasillo, 1 pared, S salida y E entrada\n",
        "    pasillo es una tupla((2,1),(2,2),(2,3),(2,4),(3,2),(4,2))\n",
        "    \"\"\"\n",
        "    def __init__(self,rens,cols,pasillos):\n",
        "        self.__laberinto = Array2D(rens, cols, \"1\")\n",
        "        for pasillo in pasillos:\n",
        "            self.__laberinto.set_item(pasillo[0] ,pasillo[1] ,\"0\")\n",
        "\n",
        "    def to_string(self):\n",
        "        self.__laberinto.to_string()   "
      ],
      "execution_count": null,
      "outputs": []
    },
    {
      "cell_type": "code",
      "metadata": {
        "id": "a2mvVTp3r9-R"
      },
      "source": [
        " from backtracking import laberintoADT\n",
        "\n",
        "pasillos_inicial= ((2,1),(2,2),(2,3),(2,4),(3,2),(4,2))\n",
        "lab = laberintoADT(6,6,pasillos_inicial)\n",
        "lab.to_string()"
      ],
      "execution_count": null,
      "outputs": []
    }
  ]
}