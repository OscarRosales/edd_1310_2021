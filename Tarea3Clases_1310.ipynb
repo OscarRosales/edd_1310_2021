{
  "nbformat": 4,
  "nbformat_minor": 0,
  "metadata": {
    "colab": {
      "name": "Tarea3Clases_1310.ipynb",
      "provenance": [],
      "authorship_tag": "ABX9TyNdMz1SaS2evTUsZdDNt0Mf",
      "include_colab_link": true
    },
    "kernelspec": {
      "name": "python3",
      "display_name": "Python 3"
    }
  },
  "cells": [
    {
      "cell_type": "markdown",
      "metadata": {
        "id": "view-in-github",
        "colab_type": "text"
      },
      "source": [
        "<a href=\"https://colab.research.google.com/github/OscarRosales/edd_1310_2021/blob/master/Tarea3Clases_1310.ipynb\" target=\"_parent\"><img src=\"https://colab.research.google.com/assets/colab-badge.svg\" alt=\"Open In Colab\"/></a>"
      ]
    },
    {
      "cell_type": "code",
      "metadata": {
        "id": "RibpL2Bwo0B5",
        "outputId": "afef6f31-8c90-417a-8842-d170abd79807",
        "colab": {
          "base_uri": "https://localhost:8080/",
          "height": 50
        }
      },
      "source": [
        "class Persona:\n",
        "  def __init__(self,nombre,edad,estatura):\n",
        "    self.__nombre = nombre\n",
        "    self.__edad = edad \n",
        "    self.__estatura = estatura\n",
        "  \n",
        "  def dormir(self):\n",
        "    return self.__nombre + \", hora de dormir\"\n",
        "\n",
        "  def comer(self):\n",
        "    return self.__nombre +\", hora de comer\"\n",
        "\n",
        "persona = Persona(\"oscar\",\"19\",\"1.65\")\n",
        "print(persona.dormir())\n",
        "print(persona.comer())"
      ],
      "execution_count": 10,
      "outputs": [
        {
          "output_type": "stream",
          "text": [
            "oscar, hora de dormir\n",
            "oscar, hora de comer\n"
          ],
          "name": "stdout"
        }
      ]
    },
    {
      "cell_type": "code",
      "metadata": {
        "id": "PKr48mFEo-1z",
        "outputId": "46117949-2c0f-46aa-e889-9c97accbde66",
        "colab": {
          "base_uri": "https://localhost:8080/",
          "height": 33
        }
      },
      "source": [
        "\n",
        "class Celular:\n",
        "  def __init__(self,marca,modelo,memoria):\n",
        "    self.__marca = marca\n",
        "    self.__modelo = modelo\n",
        "    self.__memoria = memoria\n",
        "\n",
        "  def llamar(self):\n",
        "    return \"Llamada\" + self.__marca\n",
        "\n",
        "  def alarma(self):\n",
        "    return \"Poner Alarma \"\n",
        "\n",
        "celular = Celular(\"Xiaomi\",\"Mi8lite\",\"120 gb\")\n",
        "print(celular.alarma())"
      ],
      "execution_count": 8,
      "outputs": [
        {
          "output_type": "stream",
          "text": [
            "Poner Alarma \n"
          ],
          "name": "stdout"
        }
      ]
    }
  ]
}